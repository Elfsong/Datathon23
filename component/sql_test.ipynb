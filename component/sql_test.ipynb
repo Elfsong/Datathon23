{
 "cells": [
  {
   "cell_type": "code",
   "execution_count": 1,
   "metadata": {},
   "outputs": [],
   "source": [
    "from sql import SqlMiddleware"
   ]
  },
  {
   "cell_type": "code",
   "execution_count": 2,
   "metadata": {},
   "outputs": [
    {
     "name": "stdout",
     "output_type": "stream",
     "text": [
      "[+] SSH tunnel established\n",
      "[+] SQL connection established\n",
      "[+] Ready to go ^-^\n"
     ]
    }
   ],
   "source": [
    "sql = SqlMiddleware(password=\"XXX\", db_password=\"YYY\")"
   ]
  },
  {
   "cell_type": "code",
   "execution_count": 3,
   "metadata": {},
   "outputs": [
    {
     "data": {
      "text/plain": [
       "[('0010   ', 9, 'Cholera due to vibrio cholerae'),\n",
       " ('0011   ', 9, 'Cholera due to vibrio cholerae el tor'),\n",
       " ('0019   ', 9, 'Cholera, unspecified'),\n",
       " ('0020   ', 9, 'Typhoid fever'),\n",
       " ('0021   ', 9, 'Paratyphoid fever A'),\n",
       " ('0022   ', 9, 'Paratyphoid fever B'),\n",
       " ('0023   ', 9, 'Paratyphoid fever C'),\n",
       " ('0029   ', 9, 'Paratyphoid fever, unspecified'),\n",
       " ('0030   ', 9, 'Salmonella gastroenteritis'),\n",
       " ('0031   ', 9, 'Salmonella septicemia')]"
      ]
     },
     "execution_count": 3,
     "metadata": {},
     "output_type": "execute_result"
    }
   ],
   "source": [
    "sql.raw_excute(\"SELECT * FROM mimiciv_hosp.d_icd_diagnoses LIMIT 10\")"
   ]
  },
  {
   "cell_type": "code",
   "execution_count": 4,
   "metadata": {},
   "outputs": [
    {
     "data": {
      "text/html": [
       "<div>\n",
       "<style scoped>\n",
       "    .dataframe tbody tr th:only-of-type {\n",
       "        vertical-align: middle;\n",
       "    }\n",
       "\n",
       "    .dataframe tbody tr th {\n",
       "        vertical-align: top;\n",
       "    }\n",
       "\n",
       "    .dataframe thead th {\n",
       "        text-align: right;\n",
       "    }\n",
       "</style>\n",
       "<table border=\"1\" class=\"dataframe\">\n",
       "  <thead>\n",
       "    <tr style=\"text-align: right;\">\n",
       "      <th></th>\n",
       "      <th>icd_code</th>\n",
       "      <th>icd_version</th>\n",
       "      <th>long_title</th>\n",
       "    </tr>\n",
       "  </thead>\n",
       "  <tbody>\n",
       "    <tr>\n",
       "      <th>0</th>\n",
       "      <td>0010</td>\n",
       "      <td>9</td>\n",
       "      <td>Cholera due to vibrio cholerae</td>\n",
       "    </tr>\n",
       "    <tr>\n",
       "      <th>1</th>\n",
       "      <td>0011</td>\n",
       "      <td>9</td>\n",
       "      <td>Cholera due to vibrio cholerae el tor</td>\n",
       "    </tr>\n",
       "    <tr>\n",
       "      <th>2</th>\n",
       "      <td>0019</td>\n",
       "      <td>9</td>\n",
       "      <td>Cholera, unspecified</td>\n",
       "    </tr>\n",
       "    <tr>\n",
       "      <th>3</th>\n",
       "      <td>0020</td>\n",
       "      <td>9</td>\n",
       "      <td>Typhoid fever</td>\n",
       "    </tr>\n",
       "    <tr>\n",
       "      <th>4</th>\n",
       "      <td>0021</td>\n",
       "      <td>9</td>\n",
       "      <td>Paratyphoid fever A</td>\n",
       "    </tr>\n",
       "    <tr>\n",
       "      <th>5</th>\n",
       "      <td>0022</td>\n",
       "      <td>9</td>\n",
       "      <td>Paratyphoid fever B</td>\n",
       "    </tr>\n",
       "    <tr>\n",
       "      <th>6</th>\n",
       "      <td>0023</td>\n",
       "      <td>9</td>\n",
       "      <td>Paratyphoid fever C</td>\n",
       "    </tr>\n",
       "    <tr>\n",
       "      <th>7</th>\n",
       "      <td>0029</td>\n",
       "      <td>9</td>\n",
       "      <td>Paratyphoid fever, unspecified</td>\n",
       "    </tr>\n",
       "    <tr>\n",
       "      <th>8</th>\n",
       "      <td>0030</td>\n",
       "      <td>9</td>\n",
       "      <td>Salmonella gastroenteritis</td>\n",
       "    </tr>\n",
       "    <tr>\n",
       "      <th>9</th>\n",
       "      <td>0031</td>\n",
       "      <td>9</td>\n",
       "      <td>Salmonella septicemia</td>\n",
       "    </tr>\n",
       "  </tbody>\n",
       "</table>\n",
       "</div>"
      ],
      "text/plain": [
       "  icd_code  icd_version                             long_title\n",
       "0  0010               9         Cholera due to vibrio cholerae\n",
       "1  0011               9  Cholera due to vibrio cholerae el tor\n",
       "2  0019               9                   Cholera, unspecified\n",
       "3  0020               9                          Typhoid fever\n",
       "4  0021               9                    Paratyphoid fever A\n",
       "5  0022               9                    Paratyphoid fever B\n",
       "6  0023               9                    Paratyphoid fever C\n",
       "7  0029               9         Paratyphoid fever, unspecified\n",
       "8  0030               9             Salmonella gastroenteritis\n",
       "9  0031               9                  Salmonella septicemia"
      ]
     },
     "execution_count": 4,
     "metadata": {},
     "output_type": "execute_result"
    }
   ],
   "source": [
    "sql.pd_excute(\"SELECT * FROM mimiciv_hosp.d_icd_diagnoses LIMIT 10\")"
   ]
  },
  {
   "cell_type": "code",
   "execution_count": null,
   "metadata": {},
   "outputs": [],
   "source": []
  }
 ],
 "metadata": {
  "kernelspec": {
   "display_name": "Python 3.9.15 ('hack')",
   "language": "python",
   "name": "python3"
  },
  "language_info": {
   "codemirror_mode": {
    "name": "ipython",
    "version": 3
   },
   "file_extension": ".py",
   "mimetype": "text/x-python",
   "name": "python",
   "nbconvert_exporter": "python",
   "pygments_lexer": "ipython3",
   "version": "3.9.15"
  },
  "orig_nbformat": 4,
  "vscode": {
   "interpreter": {
    "hash": "3cfa1c6ca8223149aeebd75ba9138a4b146fb517cd2560cd5dd40dc3e62641fc"
   }
  }
 },
 "nbformat": 4,
 "nbformat_minor": 2
}
