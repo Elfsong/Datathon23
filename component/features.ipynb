{
 "cells": [
  {
   "cell_type": "code",
   "execution_count": 3,
   "metadata": {},
   "outputs": [],
   "source": [
    "from sql import SqlMiddleware"
   ]
  },
  {
   "cell_type": "code",
   "execution_count": 4,
   "metadata": {},
   "outputs": [
    {
     "name": "stdout",
     "output_type": "stream",
     "text": [
      "[+] SSH tunnel established\n",
      "[+] SQL connection established\n",
      "[+] Ready to go ^-^\n"
     ]
    }
   ],
   "source": [
    "sql = SqlMiddleware(password=\"Datathon-2022\", db_password=\"1&n0D4o9\")"
   ]
  },
  {
   "cell_type": "code",
   "execution_count": null,
   "metadata": {},
   "outputs": [],
   "source": []
  }
 ],
 "metadata": {
  "kernelspec": {
   "display_name": "Python 3.9.15 ('hack')",
   "language": "python",
   "name": "python3"
  },
  "language_info": {
   "codemirror_mode": {
    "name": "ipython",
    "version": 3
   },
   "file_extension": ".py",
   "mimetype": "text/x-python",
   "name": "python",
   "nbconvert_exporter": "python",
   "pygments_lexer": "ipython3",
   "version": "3.9.15"
  },
  "orig_nbformat": 4,
  "vscode": {
   "interpreter": {
    "hash": "3cfa1c6ca8223149aeebd75ba9138a4b146fb517cd2560cd5dd40dc3e62641fc"
   }
  }
 },
 "nbformat": 4,
 "nbformat_minor": 2
}
