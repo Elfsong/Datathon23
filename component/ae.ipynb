{
 "cells": [
  {
   "cell_type": "code",
   "execution_count": null,
   "metadata": {},
   "outputs": [],
   "source": [
    "import torch\n",
    "import itertools\n",
    "import pandas as pd\n",
    "from torchvision import datasets\n",
    "from torchvision import transforms\n",
    "import matplotlib.pyplot as plt\n",
    "from tqdm import tqdm"
   ]
  },
  {
   "cell_type": "code",
   "execution_count": null,
   "metadata": {},
   "outputs": [],
   "source": [
    "def pairwise(iterable):\n",
    "    a, b = itertools.tee(iterable)\n",
    "    next(b, None)\n",
    "    return list(zip(a, b))"
   ]
  },
  {
   "cell_type": "code",
   "execution_count": null,
   "metadata": {},
   "outputs": [],
   "source": [
    "# Dataset construction\n",
    "data = pd.read_csv('../data/final.csv').fillna(-1)\n",
    "dataset = (pairwise(list(data.iterrows())))"
   ]
  },
  {
   "cell_type": "code",
   "execution_count": null,
   "metadata": {},
   "outputs": [],
   "source": [
    "feature_selection = [\"timepoint\", \"gender_x\", \"age_x\", \"Temperature_max\", \"Temperature_min\", \"WBC_max\", \"WBC_min\", \"Glucose_max\", \"Glucose_min\", \"Sodium_max\", \"Sodium_min\", \"Intubated_max\", \"Intubated_min\", \"Lactate_max\", \"Lactate_min\", \"PLE_max\", \"PLE_min\", \"HR_max\", \"HR_min\", \"PtS_max\", \"PtS_min\", \"Respiratory Rate (Total)_max\", \"Respiratory Rate (Total)_min\", \"Respiratory Rate_max\", \"Respiratory Rate_min\", \"Respiratory Rate (spontaneous)_max\", \"Respiratory Rate (spontaneous)_min\", \"NBPs_max\", \"NBPs_min\", \"ART BP Systolic_max\", \"ART BP Systolic_min\", \"Temperature C_max\", \"Temperature C_min\", \"Manual BPs R_max\", \"Manual BPs R_min\", \"Manual BPs L_max\", \"Manual BPs L_min\", \"Temperature F_max\", \"Temperature F_min\", \"ABPs_max\", \"ABPs_min\"]\n",
    "len(feature_selection)"
   ]
  },
  {
   "cell_type": "code",
   "execution_count": null,
   "metadata": {},
   "outputs": [],
   "source": [
    "dataset = [ d for d in dataset if d[0][1][\"timepoint\"] == d[1][1][\"timepoint\"] - 1]\n",
    "len(dataset)"
   ]
  },
  {
   "cell_type": "code",
   "execution_count": 15,
   "metadata": {},
   "outputs": [
    {
     "name": "stderr",
     "output_type": "stream",
     "text": [
      "100%|██████████| 160895/160895 [01:22<00:00, 1942.71it/s]\n"
     ]
    }
   ],
   "source": [
    "dataset_tensor = list()\n",
    "\n",
    "for d in tqdm(dataset):\n",
    "    previous, current = list(), list()\n",
    "    for label in feature_selection:\n",
    "        if label == \"gender_x\":\n",
    "            previous += [0, 1 if d[0][1][label] == 'M' else 1, 0]\n",
    "            current += [0, 1 if d[1][1][label] == 'M' else 1, 0]\n",
    "        else:\n",
    "            previous += [d[0][1][label] if d[0][1][label] else -1]\n",
    "            current += [d[1][1][label] if d[1][1][label] else -1]\n",
    "\n",
    "    dataset_tensor += [(torch.as_tensor(previous), torch.as_tensor(current))]"
   ]
  },
  {
   "cell_type": "code",
   "execution_count": 16,
   "metadata": {},
   "outputs": [],
   "source": [
    "# for training\n",
    "loader = torch.utils.data.DataLoader(dataset = dataset_tensor, batch_size = 16, shuffle = True)"
   ]
  },
  {
   "cell_type": "code",
   "execution_count": 17,
   "metadata": {},
   "outputs": [],
   "source": [
    "# Creating a PyTorch class\n",
    "class AE(torch.nn.Module):\n",
    "    def __init__(self):\n",
    "        super().__init__()\n",
    "         \n",
    "        self.encoder = torch.nn.Sequential(\n",
    "            torch.nn.Linear(43 * 2, 64),\n",
    "            torch.nn.ReLU(),\n",
    "            torch.nn.Linear(64, 36),\n",
    "            torch.nn.ReLU(),\n",
    "            torch.nn.Linear(36, 24),\n",
    "        )\n",
    "         \n",
    "        self.decoder = torch.nn.Sequential(\n",
    "            torch.nn.Linear(24, 36),\n",
    "            torch.nn.ReLU(),\n",
    "            torch.nn.Linear(36, 43),\n",
    "            torch.nn.Sigmoid()\n",
    "        )\n",
    " \n",
    "    def forward(self, x):\n",
    "        encoded = self.encoder(x)\n",
    "        decoded = self.decoder(encoded)\n",
    "        return decoded"
   ]
  },
  {
   "cell_type": "code",
   "execution_count": 18,
   "metadata": {},
   "outputs": [],
   "source": [
    "# Model Initialization\n",
    "model = AE().to(\"cuda\")\n",
    " \n",
    "# Validation using MSE Loss function\n",
    "loss_function = torch.nn.MSELoss()\n",
    " \n",
    "# Using an Adam Optimizer with lr = 0.1\n",
    "optimizer = torch.optim.Adam(model.parameters(), lr = 1e-2, weight_decay = 1e-8)"
   ]
  },
  {
   "cell_type": "code",
   "execution_count": 22,
   "metadata": {},
   "outputs": [
    {
     "name": "stderr",
     "output_type": "stream",
     "text": [
      "100%|██████████| 10/10 [02:52<00:00, 17.25s/it]\n"
     ]
    }
   ],
   "source": [
    "epochs = 10\n",
    "outputs = []\n",
    "losses = []\n",
    "\n",
    "for epoch in tqdm(range(epochs)):\n",
    "    for (x1, x2) in loader:\n",
    "        input_tensor = torch.cat((x1[0], x2[0])).to(\"cuda\")\n",
    "        reconstructed = model(input_tensor)\n",
    "\n",
    "        loss = loss_function(reconstructed, x2[0].to(\"cuda\"))\n",
    "\n",
    "        optimizer.zero_grad()\n",
    "        loss.backward()\n",
    "        optimizer.step()\n",
    "\n",
    "        losses.append(loss.detach().cpu())\n",
    "        \n",
    "        outputs.append((x1, x2, reconstructed))"
   ]
  },
  {
   "cell_type": "code",
   "execution_count": 23,
   "metadata": {},
   "outputs": [
    {
     "data": {
      "text/plain": [
       "[<matplotlib.lines.Line2D at 0x7f8828e723a0>]"
      ]
     },
     "execution_count": 23,
     "metadata": {},
     "output_type": "execute_result"
    },
    {
     "data": {
      "image/png": "[encoded data removed]",
      "text/plain": [
       "<Figure size 432x288 with 1 Axes>"
      ]
     },
     "metadata": {},
     "output_type": "display_data"
    }
   ],
   "source": [
    "# Defining the Plot Style\n",
    "plt.style.use('fivethirtyeight')\n",
    "plt.xlabel('Iterations')\n",
    "plt.ylabel('Loss')\n",
    " \n",
    "# Plotting the last 100 values\n",
    "plt.plot(losses)"
   ]
  },
  {
   "cell_type": "code",
   "execution_count": 24,
   "metadata": {},
   "outputs": [
    {
     "data": {
      "text/plain": [
       "(tensor([[ -1.0000,   0.0000,   1.0000,   0.0000,  79.0000,  -1.0000,  -1.0000,\n",
       "           -1.0000,  -1.0000,  -1.0000,  -1.0000,  -1.0000,  -1.0000,  -1.0000,\n",
       "           -1.0000,  -1.0000,  -1.0000,  -1.0000,  -1.0000,  -1.0000,  -1.0000,\n",
       "           -1.0000,  -1.0000,  -1.0000,  -1.0000,  -1.0000,  -1.0000,  -1.0000,\n",
       "           -1.0000,  -1.0000,  -1.0000,  -1.0000,  -1.0000,  -1.0000,  -1.0000,\n",
       "           -1.0000,  -1.0000,  -1.0000,  -1.0000,  -1.0000,  -1.0000,  -1.0000,\n",
       "           -1.0000],\n",
       "         [ 18.0000,   0.0000,   1.0000,   0.0000,  76.0000,  -1.0000,  -1.0000,\n",
       "            0.9000,   0.9000, 128.0000, 128.0000, 144.0000, 144.0000,  -1.0000,\n",
       "           -1.0000,   1.2000,   1.2000,  34.0000,  34.0000, 136.0000,  97.0000,\n",
       "           -1.0000,  -1.0000,  22.0000,  14.0000,  22.0000,  13.0000,  22.0000,\n",
       "           14.0000, 158.0000, 120.0000,  -1.0000,  -1.0000,  -1.0000,  -1.0000,\n",
       "           -1.0000,  -1.0000,  -1.0000,  -1.0000,  98.4000,  97.2000,  -1.0000,\n",
       "           -1.0000],\n",
       "         [ 39.0000,   0.0000,   1.0000,   0.0000,  64.0000,  -1.0000,  -1.0000,\n",
       "            5.0000,   5.0000, 160.0000, 160.0000, 137.0000, 137.0000,  -1.0000,\n",
       "           -1.0000,  -1.0000,  -1.0000, 175.0000, 175.0000,  -1.0000,  -1.0000,\n",
       "           -1.0000,  -1.0000,  -1.0000,  -1.0000,  -1.0000,  -1.0000,  -1.0000,\n",
       "           -1.0000,  -1.0000,  -1.0000,  -1.0000,  -1.0000,  -1.0000,  -1.0000,\n",
       "           -1.0000,  -1.0000,  -1.0000,  -1.0000,  -1.0000,  -1.0000,  -1.0000,\n",
       "           -1.0000],\n",
       "         [ -1.0000,   0.0000,   1.0000,   0.0000,  76.0000,  -1.0000,  -1.0000,\n",
       "           10.3000,   8.9000, 142.0000,  99.0000, 144.0000, 143.0000,  -1.0000,\n",
       "           -1.0000,   1.1000,   0.7000, 140.0000, 133.0000, 101.0000,  63.0000,\n",
       "           -1.0000,  -1.0000,  20.0000,  18.0000,  37.0000,  15.0000,  19.0000,\n",
       "           -1.0000,  -1.0000,  -1.0000,  -1.0000,  -1.0000,  -1.0000,  -1.0000,\n",
       "           -1.0000,  -1.0000,  -1.0000,  -1.0000,  98.9000,  98.0000, 169.0000,\n",
       "          120.0000],\n",
       "         [  2.0000,   0.0000,   1.0000,   0.0000,  64.0000,  -1.0000,  -1.0000,\n",
       "           -1.0000,  -1.0000,  -1.0000,  -1.0000,  -1.0000,  -1.0000,  -1.0000,\n",
       "           -1.0000,  -1.0000,  -1.0000,  -1.0000,  -1.0000,  72.0000,  72.0000,\n",
       "           -1.0000,  -1.0000,  -1.0000,  -1.0000,  19.0000,  19.0000,  -1.0000,\n",
       "           -1.0000, 111.0000, 111.0000,  -1.0000,  -1.0000,  -1.0000,  -1.0000,\n",
       "           -1.0000,  -1.0000,  -1.0000,  -1.0000,  99.3000,  99.3000,  -1.0000,\n",
       "           -1.0000],\n",
       "         [ 29.0000,   0.0000,   1.0000,   0.0000,  81.0000,  -1.0000,  -1.0000,\n",
       "           11.3000,   8.8000, 187.0000, 187.0000, 140.0000, 140.0000,  -1.0000,\n",
       "           -1.0000,  -1.0000,  -1.0000, 191.0000, 182.0000, 106.0000,  81.0000,\n",
       "           -1.0000,  -1.0000,  31.0000,  20.0000,  30.0000,  13.0000,  31.0000,\n",
       "           -1.0000, 128.0000,  77.0000,  -1.0000,  -1.0000,  -1.0000,  -1.0000,\n",
       "           -1.0000,  -1.0000,  -1.0000,  -1.0000,  99.1000,  97.7000,  -1.0000,\n",
       "           -1.0000],\n",
       "         [  1.0000,   0.0000,   1.0000,   0.0000,  64.0000,  -1.0000,  -1.0000,\n",
       "            1.0000,   1.0000, 104.0000, 104.0000, 138.0000, 138.0000,  -1.0000,\n",
       "           -1.0000,  -1.0000,  -1.0000,  58.0000,  58.0000, 128.0000,  85.0000,\n",
       "           -1.0000,  -1.0000,  -1.0000,  -1.0000,  25.0000,  14.0000,  -1.0000,\n",
       "           -1.0000, 129.0000, 100.0000,  -1.0000,  -1.0000,  -1.0000,  -1.0000,\n",
       "           -1.0000,  -1.0000,  -1.0000,  -1.0000,  98.2000,  97.2000,  -1.0000,\n",
       "           -1.0000],\n",
       "         [  8.0000,   0.0000,   1.0000,   0.0000,  74.0000,  -1.0000,  -1.0000,\n",
       "           10.2000,  10.2000, 173.0000, 150.0000, 143.0000, 143.0000,  -1.0000,\n",
       "           -1.0000,  -1.0000,  -1.0000, 284.0000, 284.0000,  92.0000,  71.0000,\n",
       "           -1.0000,  -1.0000,  -1.0000,  -1.0000,  31.0000,  20.0000,  -1.0000,\n",
       "           -1.0000, 179.0000, 108.0000,  -1.0000,  -1.0000,  -1.0000,  -1.0000,\n",
       "           -1.0000,  -1.0000,  -1.0000,  -1.0000,  99.1000,  98.2000,  -1.0000,\n",
       "           -1.0000],\n",
       "         [ -1.0000,   0.0000,   1.0000,   0.0000,  91.0000,  -1.0000,  -1.0000,\n",
       "           14.8000,  12.7000, 689.0000,  79.0000, 137.0000, 117.0000,  -1.0000,\n",
       "           -1.0000,  10.4000,   3.1000, 408.0000, 337.0000, 138.0000,  61.0000,\n",
       "           -1.0000,  -1.0000,  24.0000,  16.0000,  31.0000,  -1.0000,  -1.0000,\n",
       "           -1.0000, 155.0000,  53.0000,  -1.0000,  -1.0000,  35.9000,  33.5000,\n",
       "           -1.0000,  -1.0000,  -1.0000,  -1.0000,  98.1000,  97.2000,  -1.0000,\n",
       "           -1.0000],\n",
       "         [ -1.0000,   0.0000,   1.0000,   0.0000,  50.0000,  -1.0000,  -1.0000,\n",
       "            8.5000,   8.2000, 150.0000, 143.0000, 144.0000, 142.0000,  -1.0000,\n",
       "           -1.0000,  -1.0000,  -1.0000, 149.0000, 148.0000, 137.0000, 115.0000,\n",
       "           -1.0000,  -1.0000,  21.0000,  16.0000,  26.0000,  12.0000,  21.0000,\n",
       "           -1.0000, 152.0000, 120.0000,  -1.0000,  -1.0000,  -1.0000,  -1.0000,\n",
       "           -1.0000,  -1.0000,  -1.0000,  -1.0000, 101.6000, 100.0000,  -1.0000,\n",
       "           -1.0000],\n",
       "         [ 27.0000,   0.0000,   1.0000,   0.0000,  69.0000,  -1.0000,  -1.0000,\n",
       "           30.2000,  30.2000, 118.0000, 118.0000, 133.0000, 133.0000,  -1.0000,\n",
       "           -1.0000,  -1.0000,  -1.0000, 201.0000, 201.0000,  68.0000,  58.0000,\n",
       "           -1.0000,  -1.0000,  -1.0000,  -1.0000,  26.0000,  15.0000,  -1.0000,\n",
       "           -1.0000, 174.0000, 106.0000,  -1.0000,  -1.0000,  -1.0000,  -1.0000,\n",
       "           -1.0000,  -1.0000,  -1.0000,  -1.0000,  98.4000,  97.6000,  -1.0000,\n",
       "           -1.0000],\n",
       "         [ 28.0000,   0.0000,   1.0000,   0.0000,  69.0000,  36.6000,  36.1000,\n",
       "           68.3000,  68.3000, 132.0000, 118.0000, 136.0000, 135.0000,  -1.0000,\n",
       "           -1.0000,  -1.0000,  -1.0000, 249.0000, 249.0000, 101.0000,  75.0000,\n",
       "           -1.0000,  -1.0000,  35.0000,  17.0000,  34.0000,  16.0000,  35.0000,\n",
       "           -1.0000,  -1.0000,  -1.0000,  -1.0000,  -1.0000,  -1.0000,  -1.0000,\n",
       "           -1.0000,  -1.0000,  -1.0000,  -1.0000,  97.9000,  96.5000, 119.0000,\n",
       "           83.0000],\n",
       "         [ -1.0000,   0.0000,   1.0000,   0.0000,  86.0000,  -1.0000,  -1.0000,\n",
       "           10.8000,   7.3000,  96.0000,  88.0000, 137.0000, 136.0000,  -1.0000,\n",
       "           -1.0000,   1.5000,   1.0000, 108.0000,  94.0000, 135.0000,  68.0000,\n",
       "           -1.0000,  -1.0000,  30.0000,  15.0000,  32.0000,  -1.0000,  30.0000,\n",
       "           -1.0000, 121.0000, 118.0000,  -1.0000,  -1.0000,  -1.0000,  -1.0000,\n",
       "           -1.0000,  -1.0000,  -1.0000,  -1.0000,  99.5000,  97.4000, 186.0000,\n",
       "           56.0000],\n",
       "         [  9.0000,   0.0000,   1.0000,   0.0000,  69.0000,  -1.0000,  -1.0000,\n",
       "           35.0000,  33.3000, 146.0000, 125.0000, 137.0000, 135.0000,  -1.0000,\n",
       "           -1.0000,  -1.0000,  -1.0000, 242.0000, 238.0000,  92.0000,  81.0000,\n",
       "           -1.0000,  -1.0000,  -1.0000,  -1.0000,  28.0000,  13.0000,  -1.0000,\n",
       "           -1.0000,  -1.0000,  -1.0000,  -1.0000,  -1.0000,  -1.0000,  -1.0000,\n",
       "           -1.0000,  -1.0000,  -1.0000,  -1.0000,  98.4000,  97.9000,  -1.0000,\n",
       "           -1.0000],\n",
       "         [  2.0000,   0.0000,   1.0000,   0.0000,  76.0000,  -1.0000,  -1.0000,\n",
       "           10.0000,  10.0000, 108.0000, 108.0000, 141.0000, 141.0000,  -1.0000,\n",
       "           -1.0000,  -1.0000,  -1.0000, 244.0000, 244.0000, 129.0000,  88.0000,\n",
       "           -1.0000,  -1.0000,  29.0000,  16.0000,  28.0000,  -1.0000,  29.0000,\n",
       "            2.0000, 132.0000,  70.0000,  -1.0000,  -1.0000,  -1.0000,  -1.0000,\n",
       "           -1.0000,  -1.0000,  -1.0000,  -1.0000,  99.8000,  98.3000,  -1.0000,\n",
       "           -1.0000],\n",
       "         [  7.0000,   0.0000,   1.0000,   0.0000,  55.0000,  37.1000,  36.8000,\n",
       "           20.1000,  20.1000, 194.0000, 150.0000, 137.0000, 135.0000,  -1.0000,\n",
       "           -1.0000,   0.8000,   0.8000, 177.0000, 177.0000, 108.0000,  80.0000,\n",
       "           -1.0000,  -1.0000,  30.0000,  26.0000,  30.0000,  19.0000,  -1.0000,\n",
       "           -1.0000, 120.0000,  92.0000,  -1.0000,  -1.0000,  -1.0000,  -1.0000,\n",
       "           -1.0000,  -1.0000,  -1.0000,  -1.0000,  98.8000,  98.3000, 149.0000,\n",
       "           79.0000]]),\n",
       " tensor([[  1.0000,   0.0000,   1.0000,   0.0000,  79.0000,  -1.0000,  -1.0000,\n",
       "           -1.0000,  -1.0000,  -1.0000,  -1.0000,  -1.0000,  -1.0000,  -1.0000,\n",
       "           -1.0000,  -1.0000,  -1.0000,  -1.0000,  -1.0000,  -1.0000,  -1.0000,\n",
       "           -1.0000,  -1.0000,  -1.0000,  -1.0000,  -1.0000,  -1.0000,  -1.0000,\n",
       "           -1.0000,  -1.0000,  -1.0000,  -1.0000,  -1.0000,  -1.0000,  -1.0000,\n",
       "           -1.0000,  -1.0000,  -1.0000,  -1.0000,  -1.0000,  -1.0000,  -1.0000,\n",
       "           -1.0000],\n",
       "         [ 19.0000,   0.0000,   1.0000,   0.0000,  76.0000,  -1.0000,  -1.0000,\n",
       "            1.1000,   1.1000, 182.0000, 182.0000, 145.0000, 145.0000,  -1.0000,\n",
       "           -1.0000,  -1.0000,  -1.0000, 111.0000,  21.0000, 147.0000,  98.0000,\n",
       "           -1.0000,  -1.0000,  25.0000,  14.0000,  32.0000,  15.0000,  25.0000,\n",
       "           14.0000, 158.0000, 138.0000,  -1.0000,  -1.0000,  -1.0000,  -1.0000,\n",
       "           -1.0000,  -1.0000,  -1.0000,  -1.0000,  99.3000,  97.5000,  -1.0000,\n",
       "           -1.0000],\n",
       "         [ 40.0000,   0.0000,   1.0000,   0.0000,  64.0000,  -1.0000,  -1.0000,\n",
       "            6.3000,   6.3000, 220.0000, 220.0000, 133.0000, 133.0000,  -1.0000,\n",
       "           -1.0000,  -1.0000,  -1.0000, 176.0000, 176.0000,  -1.0000,  -1.0000,\n",
       "           -1.0000,  -1.0000,  -1.0000,  -1.0000,  -1.0000,  -1.0000,  -1.0000,\n",
       "           -1.0000,  -1.0000,  -1.0000,  -1.0000,  -1.0000,  -1.0000,  -1.0000,\n",
       "           -1.0000,  -1.0000,  -1.0000,  -1.0000,  -1.0000,  -1.0000,  -1.0000,\n",
       "           -1.0000],\n",
       "         [  1.0000,   0.0000,   1.0000,   0.0000,  76.0000,  -1.0000,  -1.0000,\n",
       "           -1.0000,  -1.0000,  -1.0000,  -1.0000,  -1.0000,  -1.0000,  -1.0000,\n",
       "           -1.0000,  -1.0000,  -1.0000,  -1.0000,  -1.0000,  77.0000,  63.0000,\n",
       "           -1.0000,  -1.0000,  -1.0000,  -1.0000,  25.0000,  15.0000,  -1.0000,\n",
       "           -1.0000,  -1.0000,  -1.0000,  -1.0000,  -1.0000,  -1.0000,  -1.0000,\n",
       "           -1.0000,  -1.0000,  -1.0000,  -1.0000,  98.1000,  97.8000, 167.0000,\n",
       "          120.0000],\n",
       "         [  3.0000,   0.0000,   1.0000,   0.0000,  64.0000,  -1.0000,  -1.0000,\n",
       "           16.0000,  15.9000,  -1.0000,  -1.0000, 148.0000, 145.0000,  -1.0000,\n",
       "           -1.0000,  -1.0000,  -1.0000, 218.0000, 176.0000,  -1.0000,  -1.0000,\n",
       "           -1.0000,  -1.0000,  -1.0000,  -1.0000,  -1.0000,  -1.0000,  -1.0000,\n",
       "           -1.0000,  -1.0000,  -1.0000,  -1.0000,  -1.0000,  -1.0000,  -1.0000,\n",
       "           -1.0000,  -1.0000,  -1.0000,  -1.0000,  -1.0000,  -1.0000,  -1.0000,\n",
       "           -1.0000],\n",
       "         [ 30.0000,   0.0000,   1.0000,   0.0000,  81.0000,  -1.0000,  -1.0000,\n",
       "            9.4000,   9.1000, 173.0000, 123.0000, 135.0000, 134.0000,  -1.0000,\n",
       "           -1.0000,  -1.0000,  -1.0000, 175.0000, 159.0000, 110.0000,  90.0000,\n",
       "           -1.0000,  -1.0000,  31.0000,  21.0000,  30.0000,  17.0000,   5.0000,\n",
       "           -1.0000, 122.0000,  94.0000,  -1.0000,  -1.0000,  -1.0000,  -1.0000,\n",
       "           -1.0000,  -1.0000,  -1.0000,  -1.0000,  99.2000,  98.5000,  -1.0000,\n",
       "           -1.0000],\n",
       "         [  2.0000,   0.0000,   1.0000,   0.0000,  64.0000,  -1.0000,  -1.0000,\n",
       "            1.0000,   1.0000, 101.0000, 101.0000, 137.0000, 137.0000,  -1.0000,\n",
       "           -1.0000,  -1.0000,  -1.0000,  46.0000,  46.0000, 118.0000, 104.0000,\n",
       "           -1.0000,  -1.0000,  -1.0000,  -1.0000,  24.0000,  17.0000,  -1.0000,\n",
       "           -1.0000, 124.0000,  91.0000,  -1.0000,  -1.0000,  -1.0000,  -1.0000,\n",
       "           -1.0000,  -1.0000,  -1.0000,  -1.0000,  97.4000,  97.2000,  -1.0000,\n",
       "           -1.0000],\n",
       "         [  9.0000,   0.0000,   1.0000,   0.0000,  74.0000,  -1.0000,  -1.0000,\n",
       "           12.8000,  12.8000, 233.0000, 233.0000, 143.0000, 143.0000,  -1.0000,\n",
       "           -1.0000,  -1.0000,  -1.0000, 283.0000, 283.0000,  93.0000,  71.0000,\n",
       "           -1.0000,  -1.0000,  -1.0000,  -1.0000,  36.0000,  11.0000,  -1.0000,\n",
       "           -1.0000, 147.0000, 108.0000,  -1.0000,  -1.0000,  -1.0000,  -1.0000,\n",
       "           -1.0000,  -1.0000,  -1.0000,  -1.0000,  99.2000,  98.2000,  -1.0000,\n",
       "           -1.0000],\n",
       "         [  1.0000,   0.0000,   1.0000,   0.0000,  91.0000,  36.6000,  36.6000,\n",
       "           12.7000,  12.4000, 353.0000, 261.0000, 134.0000, 131.0000,  -1.0000,\n",
       "           -1.0000,   6.5000,   3.8000, 261.0000, 248.0000, 111.0000,  65.0000,\n",
       "           -1.0000,  -1.0000,  24.0000,  18.0000,  27.0000,  11.0000,   8.0000,\n",
       "           -1.0000, 159.0000,  74.0000,  -1.0000,  -1.0000,  38.0000,  36.6000,\n",
       "           -1.0000,  -1.0000,  -1.0000,  -1.0000,  -1.0000,  -1.0000,  -1.0000,\n",
       "           -1.0000],\n",
       "         [  1.0000,   0.0000,   1.0000,   0.0000,  50.0000,  -1.0000,  -1.0000,\n",
       "            8.2000,   8.2000, 213.0000, 213.0000, 143.0000, 143.0000,  -1.0000,\n",
       "           -1.0000,  -1.0000,  -1.0000, 167.0000, 167.0000, 129.0000, 109.0000,\n",
       "           -1.0000,  -1.0000,  -1.0000,  -1.0000,  31.0000,  19.0000,  -1.0000,\n",
       "           -1.0000, 179.0000, 138.0000,  -1.0000,  -1.0000,  -1.0000,  -1.0000,\n",
       "           -1.0000,  -1.0000,  -1.0000,  -1.0000, 101.0000,  99.3000,  -1.0000,\n",
       "           -1.0000],\n",
       "         [ 28.0000,   0.0000,   1.0000,   0.0000,  69.0000,  -1.0000,  -1.0000,\n",
       "           24.3000,  24.3000, 140.0000, 140.0000, 132.0000, 132.0000,  -1.0000,\n",
       "           -1.0000,  -1.0000,  -1.0000, 216.0000, 216.0000,  62.0000,  60.0000,\n",
       "           -1.0000,  -1.0000,  -1.0000,  -1.0000,  19.0000,  18.0000,  -1.0000,\n",
       "           -1.0000, 139.0000, 118.0000,  -1.0000,  -1.0000,  -1.0000,  -1.0000,\n",
       "           -1.0000,  -1.0000,  -1.0000,  -1.0000,  97.5000,  97.5000,  -1.0000,\n",
       "           -1.0000],\n",
       "         [ 29.0000,   0.0000,   1.0000,   0.0000,  69.0000,  37.2000,  36.7000,\n",
       "           78.2000,  58.1000,  99.0000,  79.0000, 136.0000, 133.0000,  -1.0000,\n",
       "           -1.0000,   1.0000,   1.0000, 254.0000, 236.0000,  94.0000,  72.0000,\n",
       "           -1.0000,  -1.0000,  29.0000,  15.0000,  34.0000,  18.0000,  19.0000,\n",
       "           -1.0000,  92.0000,  92.0000,  -1.0000,  -1.0000,  -1.0000,  -1.0000,\n",
       "           -1.0000,  -1.0000,  -1.0000,  -1.0000,  98.4000,  96.5000, 127.0000,\n",
       "           85.0000],\n",
       "         [  1.0000,   0.0000,   1.0000,   0.0000,  86.0000,  37.0000,  37.0000,\n",
       "            6.7000,   6.7000,  99.0000,  92.0000, 134.0000, 134.0000,  -1.0000,\n",
       "           -1.0000,  -1.0000,  -1.0000,  91.0000,  91.0000, 135.0000,  60.0000,\n",
       "           -1.0000,  -1.0000,  19.0000,  15.0000,  47.0000,  13.0000,  -1.0000,\n",
       "           -1.0000,  -1.0000,  -1.0000,  -1.0000,  -1.0000,  -1.0000,  -1.0000,\n",
       "           -1.0000,  -1.0000,  -1.0000,  -1.0000,  99.2000,  97.9000, 223.0000,\n",
       "           95.0000],\n",
       "         [ 10.0000,   0.0000,   1.0000,   0.0000,  69.0000,  -1.0000,  -1.0000,\n",
       "           33.8000,  33.8000,  -1.0000,  -1.0000, 137.0000, 137.0000,  -1.0000,\n",
       "           -1.0000,  -1.0000,  -1.0000, 246.0000, 246.0000,  94.0000,  76.0000,\n",
       "           -1.0000,  -1.0000,  -1.0000,  -1.0000,  29.0000,  16.0000,  -1.0000,\n",
       "           -1.0000,  -1.0000,  -1.0000,  -1.0000,  -1.0000,  -1.0000,  -1.0000,\n",
       "           -1.0000,  -1.0000,  -1.0000,  -1.0000,  98.4000,  97.7000,  -1.0000,\n",
       "           -1.0000],\n",
       "         [  3.0000,   0.0000,   1.0000,   0.0000,  76.0000,  -1.0000,  -1.0000,\n",
       "           12.3000,  12.3000,  95.0000,  95.0000, 143.0000, 143.0000,  -1.0000,\n",
       "           -1.0000,  -1.0000,  -1.0000, 200.0000, 200.0000,  91.0000,  78.0000,\n",
       "           -1.0000,  -1.0000,  -1.0000,  -1.0000,  28.0000,  17.0000,  -1.0000,\n",
       "           -1.0000, 119.0000,  71.0000,  -1.0000,  -1.0000,  -1.0000,  -1.0000,\n",
       "           -1.0000,  -1.0000,  -1.0000,  -1.0000,  98.9000,  97.5000,  -1.0000,\n",
       "           -1.0000],\n",
       "         [  8.0000,   0.0000,   1.0000,   0.0000,  55.0000,  36.7000,  36.4000,\n",
       "           21.3000,  21.3000, 171.0000, 139.0000, 137.0000, 136.0000,  -1.0000,\n",
       "           -1.0000,   0.9000,   0.9000, 112.0000, 112.0000, 100.0000,  79.0000,\n",
       "           -1.0000,  -1.0000,  26.0000,  26.0000,  27.0000,  15.0000,  -1.0000,\n",
       "           -1.0000,  -1.0000,  -1.0000,  -1.0000,  -1.0000,  -1.0000,  -1.0000,\n",
       "           -1.0000,  -1.0000,  -1.0000,  -1.0000,  98.3000,  96.9000, 151.0000,\n",
       "           94.0000]]),\n",
       " tensor([1., 0., 1., 0., 1., 0., 1., 1., 1., 1., 1., 1., 1., 0., 0., 0., 0., 1.,\n",
       "         1., 1., 0., 0., 0., 1., 0., 1., 1., 1., 0., 0., 0., 0., 0., 0., 0., 0.,\n",
       "         0., 0., 0., 1., 1., 0., 0.], device='cuda:0',\n",
       "        grad_fn=<SigmoidBackward>))"
      ]
     },
     "execution_count": 24,
     "metadata": {},
     "output_type": "execute_result"
    }
   ],
   "source": [
    "outputs[0]"
   ]
  },
  {
   "cell_type": "code",
   "execution_count": 25,
   "metadata": {},
   "outputs": [
    {
     "ename": "ModuleNotFoundError",
     "evalue": "No module named 'seaborn'",
     "output_type": "error",
     "traceback": [
      "\u001b[0;31m---------------------------------------------------------------------------\u001b[0m",
      "\u001b[0;31mModuleNotFoundError\u001b[0m                       Traceback (most recent call last)",
      "\u001b[0;32m<ipython-input-25-324b37adc73c>\u001b[0m in \u001b[0;36m<module>\u001b[0;34m\u001b[0m\n\u001b[0;32m----> 1\u001b[0;31m \u001b[0;32mimport\u001b[0m \u001b[0mseaborn\u001b[0m \u001b[0;32mas\u001b[0m \u001b[0msns\u001b[0m\u001b[0;34m\u001b[0m\u001b[0;34m\u001b[0m\u001b[0m\n\u001b[0m\u001b[1;32m      2\u001b[0m \u001b[0msns\u001b[0m\u001b[0;34m.\u001b[0m\u001b[0mset_theme\u001b[0m\u001b[0;34m(\u001b[0m\u001b[0mstyle\u001b[0m\u001b[0;34m=\u001b[0m\u001b[0;34m\"darkgrid\"\u001b[0m\u001b[0;34m)\u001b[0m\u001b[0;34m\u001b[0m\u001b[0;34m\u001b[0m\u001b[0m\n\u001b[1;32m      3\u001b[0m \u001b[0;34m\u001b[0m\u001b[0m\n\u001b[1;32m      4\u001b[0m \u001b[0;31m# Load an example dataset with long-form data\u001b[0m\u001b[0;34m\u001b[0m\u001b[0;34m\u001b[0m\u001b[0;34m\u001b[0m\u001b[0m\n\u001b[1;32m      5\u001b[0m \u001b[0mfmri\u001b[0m \u001b[0;34m=\u001b[0m \u001b[0msns\u001b[0m\u001b[0;34m.\u001b[0m\u001b[0mload_dataset\u001b[0m\u001b[0;34m(\u001b[0m\u001b[0;34m\"fmri\"\u001b[0m\u001b[0;34m)\u001b[0m\u001b[0;34m\u001b[0m\u001b[0;34m\u001b[0m\u001b[0m\n",
      "\u001b[0;31mModuleNotFoundError\u001b[0m: No module named 'seaborn'"
     ]
    }
   ],
   "source": [
    "import seaborn as sns\n",
    "sns.set_theme(style=\"darkgrid\")\n",
    "\n",
    "# Load an example dataset with long-form data\n",
    "fmri = sns.load_dataset(\"fmri\")\n",
    "\n",
    "# Plot the responses for different events and regions\n",
    "sns.lineplot(x=\"timepoint\", y=\"signal\",\n",
    "             hue=\"region\", style=\"event\",\n",
    "             data=fmri)"
   ]
  },
  {
   "cell_type": "code",
   "execution_count": null,
   "metadata": {},
   "outputs": [],
   "source": [
    "!pip install seaborn"
   ]
  },
  {
   "cell_type": "code",
   "execution_count": null,
   "metadata": {},
   "outputs": [],
   "source": []
  }
 ],
 "metadata": {
  "kernelspec": {
   "display_name": "Python 3.8.10 64-bit",
   "language": "python",
   "name": "python3"
  },
  "language_info": {
   "codemirror_mode": {
    "name": "ipython",
    "version": 3
   },
   "file_extension": ".py",
   "mimetype": "text/x-python",
   "name": "python",
   "nbconvert_exporter": "python",
   "pygments_lexer": "ipython3",
   "version": "3.8.10"
  },
  "orig_nbformat": 4,
  "vscode": {
   "interpreter": {
    "hash": "31f2aee4e71d21fbe5cf8b01ff0e069b9275f58929596ceb00d14d90e3e16cd6"
   }
  }
 },
 "nbformat": 4,
 "nbformat_minor": 2
}
