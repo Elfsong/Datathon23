{
 "cells": [
  {
   "cell_type": "code",
   "execution_count": 1,
   "id": "dc1beccb",
   "metadata": {},
   "outputs": [],
   "source": [
    "import numpy as np\n",
    "import pandas as pd\n",
    "import math\n",
    "\n",
    "import matplotlib.pyplot as plt\n",
    "import seaborn as sns\n",
    "\n",
    "from sklearn.datasets import load_iris\n",
    "from sklearn.datasets import load_breast_cancer\n",
    "\n",
    "from sklearn import preprocessing\n",
    "from sklearn.preprocessing import StandardScaler\n",
    "\n",
    "from imblearn.under_sampling import RandomUnderSampler\n",
    "\n",
    "from sklearn.linear_model import LogisticRegression\n",
    "from sklearn.tree import DecisionTreeClassifier\n",
    "from sklearn.ensemble import RandomForestClassifier\n",
    "from sklearn.ensemble import ExtraTreesClassifier\n",
    "from sklearn.ensemble import GradientBoostingClassifier\n",
    "from sklearn.ensemble import AdaBoostClassifier\n",
    "from xgboost import XGBClassifier\n",
    "\n",
    "from sklearn.model_selection import train_test_split\n",
    "from sklearn import metrics\n",
    "\n",
    "from sklearn.metrics import accuracy_score\n",
    "from sklearn.metrics import precision_score\n",
    "from sklearn.metrics import recall_score\n",
    "from sklearn.metrics import f1_score\n",
    "from sklearn.metrics import cohen_kappa_score\n",
    "from sklearn.metrics import roc_auc_score\n",
    "from sklearn.metrics import confusion_matrix"
   ]
  },
  {
   "cell_type": "code",
   "execution_count": 2,
   "id": "a1bfd2a3",
   "metadata": {},
   "outputs": [],
   "source": [
    "filepath = \"/home/abhijit/Downloads/dataset.csv\"\n",
    "df = pd.read_csv(filepath)"
   ]
  },
  {
   "cell_type": "code",
   "execution_count": 3,
   "id": "7cd033e2",
   "metadata": {},
   "outputs": [
    {
     "name": "stdout",
     "output_type": "stream",
     "text": [
      "   Unnamed: 0   hadm_id            starttime  maximum_Glucose  \\\n",
      "0           0  20000094  2150-03-02 16:03:00            383.0   \n",
      "1           1  20000147  2121-08-30 22:16:00            160.0   \n",
      "2           2  20000808  2180-01-17 20:58:00            109.0   \n",
      "3           3  20001305  2178-03-26 12:23:00             96.0   \n",
      "4           4  20001494  2125-10-26 18:30:00            147.0   \n",
      "\n",
      "   maximum_Intubated  maximum_Lactate  maximum_Sodium  maximum_Temperature  \\\n",
      "0                NaN              6.9           127.0                 36.8   \n",
      "1                NaN              1.9           134.0                  NaN   \n",
      "2                NaN              NaN           138.0                  NaN   \n",
      "3                NaN              2.0           140.0                  NaN   \n",
      "4                NaN              NaN           139.0                  NaN   \n",
      "\n",
      "   minimum_Glucose  minimum_Intubated  ...  diabetes_with_cc  renal_disease  \\\n",
      "0            383.0                NaN  ...                 0              1   \n",
      "1            100.0                NaN  ...                 1              0   \n",
      "2            109.0                NaN  ...                 0              0   \n",
      "3             96.0                NaN  ...                 0              0   \n",
      "4            147.0                NaN  ...                 0              0   \n",
      "\n",
      "   malignant_cancer  severe_liver_disease  metastatic_solid_tumor  aids  \\\n",
      "0                 0                     0                       0     0   \n",
      "1                 0                     0                       0     0   \n",
      "2                 0                     0                       0     0   \n",
      "3                 1                     0                       1     0   \n",
      "4                 1                     0                       1     0   \n",
      "\n",
      "   gender  age  patientweight  clabsi  \n",
      "0       M   79          108.6       0  \n",
      "1       M   71           94.0       0  \n",
      "2       F   54           49.0       0  \n",
      "3       F   76           44.0       0  \n",
      "4       M   63           85.0       0  \n",
      "\n",
      "[5 rows x 31 columns]\n"
     ]
    }
   ],
   "source": [
    "print(df.head())"
   ]
  },
  {
   "cell_type": "code",
   "execution_count": 4,
   "id": "3be2e692",
   "metadata": {},
   "outputs": [
    {
     "name": "stdout",
     "output_type": "stream",
     "text": [
      "['maximum_Glucose', 'maximum_Intubated', 'maximum_Lactate', 'maximum_Sodium', 'maximum_Temperature', 'minimum_Glucose', 'minimum_Intubated', 'minimum_Lactate', 'minimum_Sodium', 'minimum_Temperature']\n"
     ]
    }
   ],
   "source": [
    "# Checking which columns have NaNs\n",
    "print(df.columns[df.isna().any()].tolist())"
   ]
  },
  {
   "cell_type": "code",
   "execution_count": 5,
   "id": "fe49fcbd",
   "metadata": {},
   "outputs": [
    {
     "name": "stdout",
     "output_type": "stream",
     "text": [
      "[ 383.  160.  109.   96.  147.  175.  190.  135.   nan  130.  115.  177.\n",
      "  162.  153.  166.  161.  155.   84.  158.  149.  168.  170.  142.  120.\n",
      "  184.  342.  108.  118.  163.   95.  178.  129.  229.  151.   99.  140.\n",
      "  189.   97.  224.  148.  202.   89.  134.  186.  165.  119.  141.  215.\n",
      "   98.  336.  227.  133.  132.  390.   85.  154.  127.  124.  116.  152.\n",
      "  114.   62.  156.  104.  220.  139.  110.  125.  193.  425.  181.  206.\n",
      "  122.   87.  216.  123.  228.  105.  176.  183.  486.  100.  164.  185.\n",
      "  131.   76.  113.   83.  395.  107.  144.   73.  143.  173.  347.  111.\n",
      "  300.  157.  150.  212.  312.   93.  207.  196.  172.  117.  188.   72.\n",
      "  238.  159.  167.  199.  174.  145.  187.  182.  121.   37.   70.  233.\n",
      "  253.  128.  179.  112.  296.  239.  200.  246.  146.   94.  340.  245.\n",
      "   91.  263.  137.  210.  180.  203.  250.  270.  234.  101.  103.  272.\n",
      "  230.  232.  211.  126.  136.  204.  169.  209.  208.  251.   69.  192.\n",
      "  231.  276.  288.  235.  283.   92.  280.  299.  138.  197.   74.  323.\n",
      "  284.  236.  194.  102.  282.   90.  106.  273.  354.  225.  255.  198.\n",
      "   44.   61.  258.  309. 1000.  391.  394.   78.  260.  275.  361.  438.\n",
      "  171.  325.  310.   86.  264.   82.  314.  316.  324.   80.  319.  249.\n",
      "  222.  218.   28.  287.  205.   88.  266.  213.  274.  214.  195.  369.\n",
      "  666.  240.  217.  289.  303.   75.  226.  219.   79.  244.   81.  290.\n",
      "  572.  285.  338.  321.  380.  221.  191.  254.  271.   68.  242.  259.\n",
      "  490.  281.  201.  267.  257.  295.  489.  548.   67.   71.  652.  256.\n",
      "  277.  223.  247.  365.  492.   57.  241.  306.  405.  297.  371.  376.\n",
      "  363.  415.  262.  243.  406.  689.  348.  318.   77.  447.  304.   46.\n",
      "  261.  339.   51.  268.  317.  353.  315.  357.  308.   33.  424.  248.\n",
      "  307.  269.  326.  375.  298.  286.  278.  331.  320.  660.  237.  349.\n",
      "  392.   63.   64.  327.  364.  350.  302.  497.   60.  510.  343.  333.\n",
      "  930.  294.  301.  407.  523.  291.  411.  463.  517.  457.  292. 1638.\n",
      "  437.  265.  382.  362.  384.  341.  328.  417.  356.  454.  677.  359.\n",
      "   34.  516.  378.  377.  252.  368.   50.  589.  311.  345.  389.  293.\n",
      "  418.  305.  446.  445.  531.  467.  420.  401.   55.  431.  487.   59.\n",
      "  581.  397.  443.  399.  422.  279.  477.  313.  419.  834.  450.  388.\n",
      "  470.  459.  471.  426.  355.  496.  367.  440.  404.  560.  773.  469.\n",
      "  503.  409.   42.  322.  449.  592.  752.  693.  481.  488.  398.  524.\n",
      "  573.  396.  370.  542.  416.  346.   41.  429.  656.  387.  820.  428.\n",
      "  435.  472.  351.  543.  671.  460.  421.   65.  556.  334.  408.  393.\n",
      "  607.  379.   52.  436.   40.  439.  372.  464.  623.  817.   43.  448.\n",
      "  550.  480.  402.  499.  494.  580.  444.  611.  360.  332.  329.  483.\n",
      "  495.  386.  722.  430.  529.   58.  525.  672.  754.  716.  335.  574.\n",
      "  366.  466.  625.  478.   38.  423.  603.  785.  661.  679.  518. 1027.\n",
      "  504.   66.  507.  400.  519.  427.  455.  522.  512.  482.  575.  514.\n",
      "  630.  601.  788.  484.  433.  381.  570.  561.  708.  615.  337.  453.\n",
      "  736.  505.  639.  537.   56.  344.  710.  598.  476.  554.  620.  571.\n",
      "  458.  330.  709.  944.  586.  475.  600.  567.  506.  410.  629.  432.\n",
      "  373.  540.  352.  808.  500.  595.  498.  713.  532.  846.  557.  358.\n",
      "  442.   36.  513.  667.  474.   47.  412.  534.  374.  456.  602.   54.\n",
      "   21. 1018.  588. 1635.  584.  441.  682.  724.  530.  684.  680.   48.\n",
      "   53.  593.  669.  413.  468.  491.  385. 1430.  545.  461.  688.  521.\n",
      "  681. 1210.  569.  883.  520.  719.  700.  414.  657.  511.  549.  628.\n",
      "  547.  877.  610.  434.  807.  958.  465.  643.  538.  452.  726.  565.\n",
      "  462.  622.  902.   29.  691.   45.  654.  555.  626.  609. 1029.   32.]\n",
      "[nan]\n",
      "[ 6.9   1.9    nan  2.    2.3   1.7   1.6   1.5   0.8   0.9   3.8   2.4\n",
      "  2.1   2.8   6.5   6.4   3.9   7.2   7.8   4.9   1.4   9.    3.7   1.1\n",
      "  1.2   2.9   1.3   3.2   4.8   1.8   8.6  22.    9.1   3.1   2.7   1.\n",
      "  4.6   3.5   2.5   0.7   7.9   3.3   2.6   0.5   3.    4.2   4.4   2.2\n",
      "  5.7   6.3   3.6   4.7   6.2   8.2  19.2   5.2   4.3  10.6  17.6   3.4\n",
      "  5.1   4.    7.6   5.6   0.6   6.7   4.1   8.8   5.8  18.2   8.    9.2\n",
      "  5.5   5.9   6.    4.5  13.7  10.9  12.    6.6  13.4   6.1  13.1  21.\n",
      "  8.4   9.4   5.3  13.6  11.    7.4   9.6   6.8   9.7   5.4   8.5   9.8\n",
      " 11.1  14.6  19.1   8.7  10.3  17.9   7.    8.1   7.3   9.5  16.1  14.5\n",
      "  7.7   7.5  14.2   7.1   0.2   9.3   8.3  10.1  10.4  11.8   8.9  15.\n",
      " 20.   14.8  13.2  29.5  12.1  17.3   1.14 10.5  16.9  16.   11.9  16.6\n",
      " 13.8   9.9  15.6  23.4  11.6  23.   11.3  15.5  37.   14.   20.8  10.\n",
      " 19.   18.3  16.5  10.2   5.    0.4  25.9  17.2  19.5  18.6  19.8  11.2\n",
      " 11.5  13.3  13.   16.7  26.3  14.4  12.4  18.5  15.1  12.3  17.   12.7\n",
      " 12.2  10.8  13.5  25.8  11.7  12.6  21.7  18.4  29.   16.4  22.6  12.5\n",
      " 19.3  14.3  12.8  15.2  29.6  15.8  11.4  10.7  14.1  18.   13.9  16.8\n",
      "  4.78  1.03  1.42 23.5  21.4  14.9  16.3   0.3  14.7  23.3  24.   15.7\n",
      " 17.4  24.9  12.9  15.9   1.06 17.1  21.8  18.1  15.3  28.7  18.7  16.2\n",
      " 27.   20.5  26.2  17.7  18.8  20.3  26.7  20.1  20.2  20.7  21.2  23.9\n",
      " 19.4  23.7  22.2  25.5  20.9  26.9  32.   23.2  17.5  20.4  26.6 ]\n",
      "[127. 134. 138. 140. 139. 145. 126. 129. 136. 137. 144. 133. 150. 142.\n",
      " 141. 135. 143. 146. 147. 153. 130. 152. 132. 128. 148. 164. 131.  nan\n",
      " 149. 151. 161. 119. 165. 154. 155. 116. 125. 121. 123. 160. 167. 159.\n",
      " 156. 166. 117. 120. 170. 122. 172. 162. 124. 157. 168. 114. 175. 169.\n",
      " 118. 171. 110. 158. 163. 179. 111. 113. 115. 177. 112. 178. 107. 176.\n",
      " 173. 182. 108. 109.]\n",
      "[36.8  nan 37.6 37.  36.9 36.7 36.6 37.9 36.5 36.  36.1 37.1 40.2 37.7\n",
      " 37.8 39.4 36.4 36.3 37.2 35.  38.3 35.2 33.  37.4 37.3 35.7 34.8 38.2\n",
      " 35.4 35.6 34.  39.3 36.2 33.4 30.7 38.8 37.5 38.9 39.  38.  38.1 38.7\n",
      " 33.8 38.4 38.6 35.3 39.2 34.5 35.9 33.5 35.5 39.8 34.4 35.8 33.3 33.1\n",
      " 38.5 33.6 33.7 34.2 33.9 40.6 39.6 39.5 33.2 34.7 32.9 35.1 32.3 39.9\n",
      " 34.9 39.1 32.5 39.7 17.4 34.1 32.7 34.3 40.  41.7 40.1 40.3 32.  32.6\n",
      " 31.1 32.2 32.4 30.  40.4 30.6 40.9 32.8 34.6 40.5]\n",
      "[383.  100.  109.   96.  147.  119.  128.  122.    nan  81.  115.  167.\n",
      " 134.  131.   40.  161.  155.   73.  152.  149.  101.  112.  142.  120.\n",
      " 113.  150.  108.   76.   95.  114.  104.  184.  133.  124.   93.   99.\n",
      " 140.  146.   97.  220.  148.   89.  121.  186.  141.  154.   98.  290.\n",
      "  82.  118.   85.  145.  102.  116.  110.   78.   62.  162.  105.  132.\n",
      " 156.  425.   94.   92.   72.   69.  125.  117.  183.  365.   42.  151.\n",
      "  83.  139.  103.  107.  153.  111.  157.   84.  226.  207.  172.   86.\n",
      " 127.  129.   88.  174.  179.  187.  164.   91.  160.   90.  130.   37.\n",
      "  41.   70.  244.  180.  158.  123.  170.  126.   48.  144.   33.   87.\n",
      " 138.  165.  250.  135.  209.  188.  137.  211.   80.   67.  182.   56.\n",
      "  44.  251.   68.   61.  202.  262.  143.   64.   77.   79.   51.   54.\n",
      " 230.  159.  185.  279.  206.  225.  198.  163.   74.  106.  177.  192.\n",
      " 293.  297.  171.   57.  238.   71.  310.  264.  217.   60.  166.   63.\n",
      " 136.  245.   28.  246.  189.  666.  242.   59.  194.  221.   65.  303.\n",
      "  55.  227.  280.  219.  214.  274.  241.  191.   34.  178.  271.  210.\n",
      " 203.  277.  173.  228.   43.  222.   49.  199.  256.  175.  176.  218.\n",
      " 235.  169.  492.  405.  204.  243.  168.  205.  267.  193.   39.   75.\n",
      " 212.   46.  254.  196.  258.  229.  234.  255.  197.   66.   52.  181.\n",
      " 247.  231.  216.  298.  291.   36.   58.  269.  233.   53.  240.  398.\n",
      " 201.  318.  195.  239.  388.  190.  213.  278.  281.  208.   50.  253.\n",
      " 347.  323.  371.  257.  336.  287.  200.  283.   30.  265.  331.   21.\n",
      " 308.  364.  489.  378.    3.  284.  248.   26.  260.  296.  314.  516.\n",
      " 261.   25.  272.   47.  315.   35.  282.  333.  319.  223.  345.  424.\n",
      " 376.  286.  477.  300.  313.  393.  276.  268.  275.  224.  321.  263.\n",
      " 316.  397.   38.  326.  390.  409.  285.  292.  236.   29.  656.  340.\n",
      " 622.  237.   31.  359.  232.  370.  215.  288.   15.  556.  334.  396.\n",
      " 325.  362.  306.  379.  304.  406.  351.   20.  322.  464.  270.  416.\n",
      " 348.   45.  252.  259.  335.  430.  301.  302.  392.  349.  249.  466.\n",
      "  27.  368.  478.  295.  372.  367.  339.   10.  400.  273.  342.  312.\n",
      " 386.  305.  338.  311.  439.  401.  360.  423.  482.  337.  403.  320.\n",
      " 523.  357.  328.  427.  317.  324.    3.8 500.  307.   14.  494.   24.\n",
      " 446.  341.  266.  329.  381.  355.  571.  327.  584.  289.  443.  350.\n",
      " 385.  332.   16.  366.   22.  354.  330.  461.  358.  309.  399.   19.\n",
      "  23.  643.    7.  373.    6.   17.   18.  454.  506.  447.  299.  294.\n",
      " 387.  470.   32.  389. ]\n",
      "[nan]\n",
      "[ 4.5   1.     nan  2.    2.3   1.7   1.6   0.7   0.8   1.5   0.9   2.7\n",
      "  1.2   2.6   3.2   2.1   1.9   3.    1.4   1.8   1.1   2.5   1.3   2.2\n",
      "  3.3   8.7   3.5   3.1   0.6   4.6   2.8   4.    4.3   0.5   2.9   5.7\n",
      "  2.4   3.6   0.4   7.4  16.    6.2   6.4   3.9   3.4   5.    5.8   8.2\n",
      "  6.6  12.2   3.7  12.8   7.5   6.9   9.6   5.9   8.4   5.1   8.3   5.2\n",
      "  3.8   4.7  13.1   9.3  12.1   6.8   4.4  18.    4.9   6.    6.3   9.9\n",
      " 12.4   0.2   8.9   6.7  17.    4.1   1.02  4.8   5.6   4.2  12.3  13.5\n",
      "  7.1   1.14 13.6   9.    7.2  13.4  15.1   6.5   9.1   7.8  15.    8.\n",
      "  7.9   9.4  14.   11.5  10.5   6.1  14.1   7.   11.1   5.5   1.07  7.7\n",
      "  8.8  10.    1.46  5.3  19.1   7.3  11.2  10.4  11.    8.6   8.5   5.4\n",
      "  1.94 16.7  16.1   0.3  13.2   9.2   1.22 11.8   1.08 10.8   8.1  22.2\n",
      " 12.5  11.9  10.7   9.7  12.6   7.6  29.   16.4   1.23 19.8  12.   14.8\n",
      " 14.7  13.3  11.4  10.2  11.3  10.9   1.03 16.8  15.4  14.9  10.6  17.4\n",
      " 14.4  11.6  15.2  14.5   0.   11.7   1.06 13.7  13.9   1.57  1.13  9.5\n",
      "  1.11  0.99 23.   12.45 12.7  14.3  21.   25.4  23.6  16.2  15.8  10.1\n",
      " 13.   14.6   0.77  9.8  17.8   0.87 19.4  13.8  19.5   0.78 12.9  17.1\n",
      " 10.3  15.5  17.5   1.19 20.8  17.9  17.7  17.2  19.    0.1   1.98 16.9\n",
      "  1.51]\n",
      "[127. 134. 138. 140. 139. 145. 135. 122. 136. 137. 143. 133. 128. 148.\n",
      " 142. 132. 144. 141. 131. 130. 146. 147. 129. 120. 149. 125.  nan 150.\n",
      " 114. 123. 126. 154. 152. 153. 124. 110. 108. 158. 157. 119. 156. 116.\n",
      " 165. 121. 117. 113. 118. 151. 161. 115. 155. 109. 164. 112. 159. 169.\n",
      " 111. 106. 166. 176. 160. 163. 162. 171. 105. 103. 167. 104. 107. 102.\n",
      " 170.]\n",
      "[36.8  nan 37.6 37.  36.9 36.7 36.6 36.5 35.9 36.1 37.8 37.7 39.4 36.4\n",
      " 36.3 37.2 35.  38.3 35.2 32.9 37.4 37.3 35.7 34.8 35.4 35.6 38.2 32.5\n",
      " 33.2 36.2 32.4 30.7 37.9 37.1 37.5 34.4 38.9 36.  38.1 33.7 38.7 34.\n",
      " 31.6 38.5 34.9 35.3 34.5 33.  38.  32.6 34.7 39.3 35.5 34.2 38.4 39.2\n",
      " 32.2 32.8 33.4 38.6 33.3 35.1 39.  35.8 33.9 38.8 34.3 32.7 40.6 29.4\n",
      " 34.6 39.5 33.8 32.3 18.9 33.6 33.5 39.6 39.7 31.7 39.1 32.1 17.4 34.1\n",
      " 39.9 40.  33.1 32.  30.9 40.1 30.  31.9 31.2 31.8 30.8 31.3 39.8 31.5\n",
      " 30.6 31.4 10.  31.1 30.2 14.  40.2 40.4]\n"
     ]
    }
   ],
   "source": [
    "for col in df.columns[df.isna().any()].tolist():\n",
    "    print(df[col].unique())"
   ]
  },
  {
   "cell_type": "code",
   "execution_count": 6,
   "id": "89d71b2d",
   "metadata": {},
   "outputs": [
    {
     "name": "stdout",
     "output_type": "stream",
     "text": [
      "(39338, 29)\n"
     ]
    }
   ],
   "source": [
    "values = {\"maximum_Glucose\": 110, \"maximum_Intubated\": 'No', \"maximum_Lactate\": 1, \"maximum_Sodium\": 140, \"maximum_Temperature\": 37, \"minimum_Glucose\": 110, \"minimum_Intubated\": 'No', \"minimum_Lactate\": 1, \"minimum_Sodium\": 140, \"minimum_Temperature\": 37}\n",
    "df = df.fillna(value=values)\n",
    "\n",
    "df = df.drop(['maximum_Intubated', 'minimum_Intubated'], axis=1)\n",
    "print(df.shape)"
   ]
  },
  {
   "cell_type": "code",
   "execution_count": 7,
   "id": "29517b21",
   "metadata": {},
   "outputs": [
    {
     "name": "stdout",
     "output_type": "stream",
     "text": [
      "[]\n"
     ]
    }
   ],
   "source": [
    "# Checking which columns have NaNs\n",
    "print(df.columns[df.isna().any()].tolist())"
   ]
  },
  {
   "cell_type": "code",
   "execution_count": 8,
   "id": "ff1d0a4d",
   "metadata": {},
   "outputs": [
    {
     "name": "stdout",
     "output_type": "stream",
     "text": [
      "39338\n",
      "39338\n",
      "39244\n",
      "599\n",
      "238\n",
      "73\n",
      "93\n",
      "411\n",
      "204\n",
      "70\n",
      "105\n",
      "32555\n",
      "2\n",
      "2\n",
      "2\n",
      "2\n",
      "2\n",
      "2\n",
      "2\n",
      "2\n",
      "2\n",
      "2\n",
      "2\n",
      "2\n",
      "2\n",
      "2\n",
      "73\n",
      "1487\n",
      "2\n"
     ]
    }
   ],
   "source": [
    "# To check if there is any feature with only one unique value\n",
    "for col in df:\n",
    "    print(len(df[col].unique()))"
   ]
  },
  {
   "cell_type": "code",
   "execution_count": 9,
   "id": "2aa39498",
   "metadata": {},
   "outputs": [
    {
     "name": "stdout",
     "output_type": "stream",
     "text": [
      "Index(['Unnamed: 0', 'hadm_id', 'starttime', 'maximum_Glucose',\n",
      "       'maximum_Lactate', 'maximum_Sodium', 'maximum_Temperature',\n",
      "       'minimum_Glucose', 'minimum_Lactate', 'minimum_Sodium',\n",
      "       'minimum_Temperature', 'subject_id', 'peripheral_vascular_disease',\n",
      "       'cerebrovascular_disease', 'dementia', 'chronic_pulmonary_disease',\n",
      "       'rheumatic_disease', 'mild_liver_disease', 'diabetes_without_cc',\n",
      "       'diabetes_with_cc', 'renal_disease', 'malignant_cancer',\n",
      "       'severe_liver_disease', 'metastatic_solid_tumor', 'aids', 'gender',\n",
      "       'age', 'patientweight', 'clabsi'],\n",
      "      dtype='object')\n"
     ]
    }
   ],
   "source": [
    "# Printing feature names\n",
    "print(df.columns)"
   ]
  },
  {
   "cell_type": "code",
   "execution_count": 10,
   "id": "723ce19f",
   "metadata": {},
   "outputs": [
    {
     "name": "stdout",
     "output_type": "stream",
     "text": [
      "   subject_id  Unnamed: 0   hadm_id            starttime  maximum_Glucose  \\\n",
      "0    14046553           0  20000094  2150-03-02 16:03:00            383.0   \n",
      "1    14990224           1  20000147  2121-08-30 22:16:00            160.0   \n",
      "2    16788749           2  20000808  2180-01-17 20:58:00            109.0   \n",
      "3    16003661           3  20001305  2178-03-26 12:23:00             96.0   \n",
      "4    15975141           4  20001494  2125-10-26 18:30:00            147.0   \n",
      "\n",
      "   maximum_Lactate  maximum_Sodium  maximum_Temperature  minimum_Glucose  \\\n",
      "0              6.9           127.0                 36.8            383.0   \n",
      "1              1.9           134.0                 37.0            100.0   \n",
      "2              1.0           138.0                 37.0            109.0   \n",
      "3              2.0           140.0                 37.0             96.0   \n",
      "4              1.0           139.0                 37.0            147.0   \n",
      "\n",
      "   minimum_Lactate  ...  diabetes_with_cc  renal_disease  malignant_cancer  \\\n",
      "0              4.5  ...                 0              1                 0   \n",
      "1              1.0  ...                 1              0                 0   \n",
      "2              1.0  ...                 0              0                 0   \n",
      "3              2.0  ...                 0              0                 1   \n",
      "4              1.0  ...                 0              0                 1   \n",
      "\n",
      "   severe_liver_disease  metastatic_solid_tumor  aids  gender  age  \\\n",
      "0                     0                       0     0       M   79   \n",
      "1                     0                       0     0       M   71   \n",
      "2                     0                       0     0       F   54   \n",
      "3                     0                       1     0       F   76   \n",
      "4                     0                       1     0       M   63   \n",
      "\n",
      "   patientweight  clabsi  \n",
      "0          108.6       0  \n",
      "1           94.0       0  \n",
      "2           49.0       0  \n",
      "3           44.0       0  \n",
      "4           85.0       0  \n",
      "\n",
      "[5 rows x 29 columns]\n"
     ]
    }
   ],
   "source": [
    "# Moving subject_id to first column\n",
    "first_column = df.pop('subject_id')\n",
    "df.insert(0, 'subject_id', first_column)\n",
    "print(df.head())\n",
    "\n",
    "to_be_dropped_later = ['subject_id', 'Unnamed: 0', 'hadm_id', 'starttime']"
   ]
  },
  {
   "cell_type": "code",
   "execution_count": 11,
   "id": "5d57354c",
   "metadata": {},
   "outputs": [
    {
     "name": "stdout",
     "output_type": "stream",
     "text": [
      "(38980, 29)\n",
      "(358, 29)\n"
     ]
    }
   ],
   "source": [
    "# Separate class 0 and class 1\n",
    "df_c0 = df.loc[df['clabsi'] == 0]\n",
    "df_c1 = df.loc[df['clabsi'] == 1]\n",
    "\n",
    "print(df_c0.shape)\n",
    "print(df_c1.shape)"
   ]
  },
  {
   "cell_type": "code",
   "execution_count": 12,
   "id": "8f45b042",
   "metadata": {},
   "outputs": [
    {
     "name": "stdout",
     "output_type": "stream",
     "text": [
      "[0]\n",
      "[1]\n"
     ]
    }
   ],
   "source": [
    "print(df_c0['clabsi'].unique())\n",
    "print(df_c1['clabsi'].unique())"
   ]
  },
  {
   "cell_type": "code",
   "execution_count": 13,
   "id": "5c9e2275",
   "metadata": {},
   "outputs": [
    {
     "name": "stdout",
     "output_type": "stream",
     "text": [
      "(31184, 29)\n",
      "(7796, 29)\n",
      "(287, 29)\n",
      "(71, 29)\n"
     ]
    }
   ],
   "source": [
    "# Splitting 80% of data\n",
    "df_train_0 = df_c0[:math.ceil(0.8*len(df_c0))]\n",
    "df_val_0 = df_c0[math.ceil(0.8*len(df_c0)):]\n",
    "\n",
    "print(df_train_0.shape)\n",
    "print(df_val_0.shape)\n",
    "\n",
    "\n",
    "df_train_1 = df_c1[:math.ceil(0.8*len(df_c1))]\n",
    "df_val_1 = df_c1[math.ceil(0.8*len(df_c1)):]\n",
    "\n",
    "print(df_train_1.shape)\n",
    "print(df_val_1.shape)"
   ]
  },
  {
   "cell_type": "code",
   "execution_count": 14,
   "id": "a1be9e6a",
   "metadata": {},
   "outputs": [
    {
     "name": "stdout",
     "output_type": "stream",
     "text": [
      "       subject_id  Unnamed: 0   hadm_id            starttime  maximum_Glucose  \\\n",
      "31462    16502195       31462  27986053  2172-09-08 23:22:00             83.0   \n",
      "31463    10996599       31463  27986337  2186-10-20 15:11:00            160.0   \n",
      "31464    17340686       31464  27986427  2206-04-09 02:00:00            154.0   \n",
      "31465    19025111       31465  27986791  2127-06-16 20:45:00            110.0   \n",
      "31466    17431640       31466  27986910  2116-12-30 12:18:00            171.0   \n",
      "\n",
      "       maximum_Lactate  maximum_Sodium  maximum_Temperature  minimum_Glucose  \\\n",
      "31462              0.9           125.0                 37.0             63.0   \n",
      "31463              1.0           143.0                 37.0            142.0   \n",
      "31464              4.7           134.0                 36.7            122.0   \n",
      "31465              2.0           154.0                 37.0            110.0   \n",
      "31466              2.2           143.0                 37.0            133.0   \n",
      "\n",
      "       minimum_Lactate  ...  diabetes_with_cc  renal_disease  \\\n",
      "31462              0.9  ...                 0              0   \n",
      "31463              1.0  ...                 0              0   \n",
      "31464              3.7  ...                 0              1   \n",
      "31465              1.1  ...                 0              0   \n",
      "31466              1.5  ...                 0              0   \n",
      "\n",
      "       malignant_cancer  severe_liver_disease  metastatic_solid_tumor  aids  \\\n",
      "31462                 1                     0                       0     0   \n",
      "31463                 0                     0                       0     0   \n",
      "31464                 1                     0                       0     0   \n",
      "31465                 0                     0                       0     0   \n",
      "31466                 0                     0                       0     0   \n",
      "\n",
      "       gender  age  patientweight  clabsi  \n",
      "31462       M   70           71.0       0  \n",
      "31463       M   57           81.0       0  \n",
      "31464       F   63           93.2       0  \n",
      "31465       F   61           48.1       0  \n",
      "31466       F   51          128.0       0  \n",
      "\n",
      "[5 rows x 29 columns]\n",
      "       subject_id  Unnamed: 0   hadm_id            starttime  maximum_Glucose  \\\n",
      "31467    11742095       31467  27987248  2162-03-30 18:57:00            110.0   \n",
      "31468    16407546       31468  27988115  2160-02-06 16:09:00            110.0   \n",
      "31469    10756817       31469  27988243  2165-03-30 18:34:00            241.0   \n",
      "31470    14277365       31470  27988400  2189-02-15 03:49:00             90.0   \n",
      "31471    15051936       31471  27988628  2130-03-21 02:59:00            110.0   \n",
      "\n",
      "       maximum_Lactate  maximum_Sodium  maximum_Temperature  minimum_Glucose  \\\n",
      "31467              1.0           140.0                 37.0            110.0   \n",
      "31468              5.8           130.0                 37.0            110.0   \n",
      "31469              1.0           136.0                 37.0            149.0   \n",
      "31470              3.8           142.0                 37.3             60.0   \n",
      "31471              1.0           137.0                 37.0            110.0   \n",
      "\n",
      "       minimum_Lactate  ...  diabetes_with_cc  renal_disease  \\\n",
      "31467              1.0  ...                 0              0   \n",
      "31468              3.7  ...                 0              0   \n",
      "31469              1.0  ...                 1              1   \n",
      "31470              2.7  ...                 0              0   \n",
      "31471              1.0  ...                 0              0   \n",
      "\n",
      "       malignant_cancer  severe_liver_disease  metastatic_solid_tumor  aids  \\\n",
      "31467                 0                     0                       0     0   \n",
      "31468                 0                     0                       0     0   \n",
      "31469                 0                     0                       0     0   \n",
      "31470                 0                     0                       0     0   \n",
      "31471                 0                     0                       0     1   \n",
      "\n",
      "       gender  age  patientweight  clabsi  \n",
      "31467       M   28           67.3       0  \n",
      "31468       F   36           60.0       0  \n",
      "31469       F   86           66.0       0  \n",
      "31470       F   66           85.0       0  \n",
      "31471       F   50           81.7       0  \n",
      "\n",
      "[5 rows x 29 columns]\n"
     ]
    }
   ],
   "source": [
    "# Checking if any subject ids are in both training and validation set\n",
    "print(df_train_0.tail())\n",
    "print(df_val_0.head())"
   ]
  },
  {
   "cell_type": "code",
   "execution_count": 15,
   "id": "ae89c5e7",
   "metadata": {},
   "outputs": [
    {
     "name": "stdout",
     "output_type": "stream",
     "text": [
      "       subject_id  Unnamed: 0   hadm_id            starttime  maximum_Glucose  \\\n",
      "31409    19509298       31409  27971630  2194-11-29 20:00:00            456.0   \n",
      "31505    14236258       31505  27996889  2183-04-23 16:31:00            121.0   \n",
      "31546    14003453       31546  28007037  2142-04-06 21:11:00            389.0   \n",
      "31723    12212162       31723  28060124  2140-05-09 16:14:00            110.0   \n",
      "32011    11365767       32011  28133020  2154-07-25 14:28:00            112.0   \n",
      "\n",
      "       maximum_Lactate  maximum_Sodium  maximum_Temperature  minimum_Glucose  \\\n",
      "31409              1.5           154.0                 37.0            231.0   \n",
      "31505              1.0           140.0                 37.0            121.0   \n",
      "31546              4.2           142.0                 39.2            150.0   \n",
      "31723              1.6           141.0                 37.0            110.0   \n",
      "32011              1.3           142.0                 39.2            112.0   \n",
      "\n",
      "       minimum_Lactate  ...  diabetes_with_cc  renal_disease  \\\n",
      "31409              1.4  ...                 0              0   \n",
      "31505              1.0  ...                 0              1   \n",
      "31546              2.9  ...                 0              0   \n",
      "31723              1.6  ...                 0              0   \n",
      "32011              1.3  ...                 0              0   \n",
      "\n",
      "       malignant_cancer  severe_liver_disease  metastatic_solid_tumor  aids  \\\n",
      "31409                 0                     0                       0     0   \n",
      "31505                 0                     0                       0     0   \n",
      "31546                 0                     0                       0     0   \n",
      "31723                 0                     0                       0     0   \n",
      "32011                 0                     0                       0     0   \n",
      "\n",
      "       gender  age  patientweight  clabsi  \n",
      "31409       M   68           67.6       1  \n",
      "31505       M   59           97.2       1  \n",
      "31546       M   55          120.0       1  \n",
      "31723       M   46           83.9       1  \n",
      "32011       M   57           84.9       1  \n",
      "\n",
      "[5 rows x 29 columns]\n",
      "       subject_id  Unnamed: 0   hadm_id            starttime  maximum_Glucose  \\\n",
      "32183    12231709       32183  28173284  2158-08-20 19:51:00            178.0   \n",
      "32186    18376139       32186  28174033  2163-12-03 20:51:00            141.0   \n",
      "32256    17041034       32256  28189368  2125-08-03 08:15:00            110.0   \n",
      "32477    14236258       32477  28249155  2185-07-25 04:44:00             86.0   \n",
      "32496    12641980       32496  28255255  2167-10-26 14:45:00            100.0   \n",
      "\n",
      "       maximum_Lactate  maximum_Sodium  maximum_Temperature  minimum_Glucose  \\\n",
      "32183              3.4           143.0                 38.8             73.0   \n",
      "32186              1.0           140.0                 38.7             70.0   \n",
      "32256              1.4           136.0                 37.0            110.0   \n",
      "32477              1.0           137.0                 37.0             86.0   \n",
      "32496              1.4           134.0                 36.4             94.0   \n",
      "\n",
      "       minimum_Lactate  ...  diabetes_with_cc  renal_disease  \\\n",
      "32183              1.3  ...                 0              0   \n",
      "32186              1.0  ...                 0              0   \n",
      "32256              1.4  ...                 0              0   \n",
      "32477              1.0  ...                 0              1   \n",
      "32496              1.1  ...                 0              1   \n",
      "\n",
      "       malignant_cancer  severe_liver_disease  metastatic_solid_tumor  aids  \\\n",
      "32183                 0                     0                       0     0   \n",
      "32186                 0                     0                       0     0   \n",
      "32256                 0                     0                       0     0   \n",
      "32477                 0                     0                       0     0   \n",
      "32496                 0                     0                       0     0   \n",
      "\n",
      "       gender  age  patientweight  clabsi  \n",
      "32183       M   73           84.8       1  \n",
      "32186       M   27           79.1       1  \n",
      "32256       M   50           88.8       1  \n",
      "32477       M   59           84.8       1  \n",
      "32496       F   81          101.0       1  \n",
      "\n",
      "[5 rows x 29 columns]\n"
     ]
    }
   ],
   "source": [
    "# Checking if any subject ids are in both training and validation set\n",
    "print(df_train_1.tail())\n",
    "print(df_val_1.head())"
   ]
  },
  {
   "cell_type": "code",
   "execution_count": 16,
   "id": "fdfb8312",
   "metadata": {},
   "outputs": [
    {
     "name": "stdout",
     "output_type": "stream",
     "text": [
      "(31471, 29)\n",
      "(7867, 29)\n"
     ]
    }
   ],
   "source": [
    "# Merging the two classes in training and validation sets\n",
    "\n",
    "df_train_rus = pd.concat([df_train_0, df_train_1])\n",
    "print(df_train_rus.shape)\n",
    "\n",
    "df_val_rus = pd.concat([df_val_0, df_val_1])\n",
    "print(df_val_rus.shape)"
   ]
  },
  {
   "cell_type": "code",
   "execution_count": 17,
   "id": "95833896",
   "metadata": {},
   "outputs": [],
   "source": [
    "# Shuffling the rows\n",
    "\n",
    "df_train = df_train_rus.sample(frac=1, random_state=0).reset_index(drop=True)\n",
    "df_val = df_val_rus.sample(frac=1, random_state=0).reset_index(drop=True)"
   ]
  },
  {
   "cell_type": "code",
   "execution_count": 18,
   "id": "eba9b0a4",
   "metadata": {},
   "outputs": [
    {
     "name": "stdout",
     "output_type": "stream",
     "text": [
      "(31471, 25)\n",
      "(7867, 25)\n"
     ]
    }
   ],
   "source": [
    "# Deleting unnecessary columns\n",
    "\n",
    "df_train = df_train.drop(to_be_dropped_later, axis=1)\n",
    "print(df_train.shape)\n",
    "\n",
    "df_val = df_val.drop(to_be_dropped_later, axis=1)\n",
    "print(df_val.shape)"
   ]
  },
  {
   "cell_type": "code",
   "execution_count": 19,
   "id": "1695095a",
   "metadata": {},
   "outputs": [
    {
     "name": "stdout",
     "output_type": "stream",
     "text": [
      "(31471,)\n",
      "(31471, 24)\n",
      "(7867,)\n",
      "(7867, 24)\n"
     ]
    }
   ],
   "source": [
    "# Extracting labels\n",
    "\n",
    "y_train = df_train['clabsi']\n",
    "df_train = df_train.drop(['clabsi'], axis=1)\n",
    "print(y_train.shape)\n",
    "print(df_train.shape)\n",
    "\n",
    "y_val = df_val['clabsi']\n",
    "df_val = df_val.drop(['clabsi'], axis=1)\n",
    "print(y_val.shape)\n",
    "print(df_val.shape)"
   ]
  },
  {
   "cell_type": "code",
   "execution_count": 20,
   "id": "1d4eafaf",
   "metadata": {},
   "outputs": [
    {
     "name": "stdout",
     "output_type": "stream",
     "text": [
      "(861, 24)\n",
      "(861,)\n"
     ]
    }
   ],
   "source": [
    "# Define undersampling strategy\n",
    "undersample = RandomUnderSampler(sampling_strategy=0.5)\n",
    "\n",
    "# fit and apply the transform\n",
    "df_train, y_train = undersample.fit_resample(df_train, y_train)\n",
    "\n",
    "print(df_train.shape)\n",
    "print(y_train.shape)"
   ]
  },
  {
   "cell_type": "code",
   "execution_count": 21,
   "id": "260cc61c",
   "metadata": {},
   "outputs": [
    {
     "name": "stdout",
     "output_type": "stream",
     "text": [
      "287\n"
     ]
    }
   ],
   "source": [
    "print(sum(y_train))"
   ]
  },
  {
   "cell_type": "code",
   "execution_count": 22,
   "id": "5417f527",
   "metadata": {},
   "outputs": [
    {
     "name": "stdout",
     "output_type": "stream",
     "text": [
      "Index(['maximum_Glucose', 'maximum_Lactate', 'maximum_Sodium',\n",
      "       'maximum_Temperature', 'minimum_Glucose', 'minimum_Lactate',\n",
      "       'minimum_Sodium', 'minimum_Temperature', 'peripheral_vascular_disease',\n",
      "       'cerebrovascular_disease', 'dementia', 'chronic_pulmonary_disease',\n",
      "       'rheumatic_disease', 'mild_liver_disease', 'diabetes_without_cc',\n",
      "       'diabetes_with_cc', 'renal_disease', 'malignant_cancer',\n",
      "       'severe_liver_disease', 'metastatic_solid_tumor', 'aids', 'gender',\n",
      "       'age', 'patientweight'],\n",
      "      dtype='object')\n",
      "212\n",
      "85\n",
      "41\n",
      "47\n",
      "165\n",
      "52\n",
      "38\n",
      "52\n",
      "2\n",
      "2\n",
      "2\n",
      "2\n",
      "2\n",
      "2\n",
      "2\n",
      "2\n",
      "2\n",
      "2\n",
      "2\n",
      "2\n",
      "2\n",
      "2\n",
      "73\n",
      "456\n"
     ]
    }
   ],
   "source": [
    "# Printing feature names\n",
    "print(df_train.columns)\n",
    "\n",
    "for col in df_train:\n",
    "    print(len(df_train[col].unique()))"
   ]
  },
  {
   "cell_type": "code",
   "execution_count": 23,
   "id": "4799b973",
   "metadata": {},
   "outputs": [],
   "source": [
    "# Normalizing only certain columns\n",
    "\n",
    "cols_to_norm = ['maximum_Glucose','maximum_Lactate','maximum_Sodium','maximum_Temperature','minimum_Glucose','minimum_Lactate','minimum_Sodium','minimum_Temperature','age','patientweight']\n",
    "\n",
    "scaler = StandardScaler()\n",
    "\n",
    "df_train[cols_to_norm] = scaler.fit_transform(df_train[cols_to_norm])\n",
    "df_val[cols_to_norm] = scaler.transform(df_val[cols_to_norm])"
   ]
  },
  {
   "cell_type": "code",
   "execution_count": 24,
   "id": "759eff47",
   "metadata": {},
   "outputs": [],
   "source": [
    "# Converting gender into one-hot encoding\n",
    "\n",
    "one_hot = 'gender'\n",
    "\n",
    "enc = preprocessing.LabelEncoder()\n",
    "\n",
    "df_train[one_hot] = enc.fit_transform(df_train[one_hot])\n",
    "df_val[one_hot] = enc.transform(df_val[one_hot])"
   ]
  },
  {
   "cell_type": "code",
   "execution_count": 25,
   "id": "31ac27c2",
   "metadata": {},
   "outputs": [
    {
     "name": "stdout",
     "output_type": "stream",
     "text": [
      "<class 'numpy.float64'>\n",
      "<class 'numpy.float64'>\n",
      "<class 'numpy.float64'>\n",
      "<class 'numpy.float64'>\n",
      "<class 'numpy.float64'>\n",
      "<class 'numpy.float64'>\n",
      "<class 'numpy.float64'>\n",
      "<class 'numpy.float64'>\n",
      "<class 'numpy.int64'>\n",
      "<class 'numpy.int64'>\n",
      "<class 'numpy.int64'>\n",
      "<class 'numpy.int64'>\n",
      "<class 'numpy.int64'>\n",
      "<class 'numpy.int64'>\n",
      "<class 'numpy.int64'>\n",
      "<class 'numpy.int64'>\n",
      "<class 'numpy.int64'>\n",
      "<class 'numpy.int64'>\n",
      "<class 'numpy.int64'>\n",
      "<class 'numpy.int64'>\n",
      "<class 'numpy.int64'>\n",
      "<class 'numpy.int64'>\n",
      "<class 'numpy.float64'>\n",
      "<class 'numpy.float64'>\n"
     ]
    }
   ],
   "source": [
    "for col in df_train:\n",
    "    print(type(df_train[col][0]))"
   ]
  },
  {
   "cell_type": "code",
   "execution_count": 26,
   "id": "0136fa58",
   "metadata": {},
   "outputs": [],
   "source": [
    "#Split dataset (or directly store the split dataset in the right variables)\n",
    "\n",
    "X_train = df_train\n",
    "X_test = df_val\n",
    "y_train = np.array(y_train)\n",
    "y_test = np.array(y_val)"
   ]
  },
  {
   "cell_type": "code",
   "execution_count": 27,
   "id": "a0eb2129",
   "metadata": {},
   "outputs": [
    {
     "name": "stdout",
     "output_type": "stream",
     "text": [
      "[[7056  740]\n",
      " [  58   13]]\n",
      "Accuracy: 0.898564\n",
      "Precision: 0.017264\n",
      "Recall: 0.183099\n",
      "F1 score: 0.031553\n",
      "ROC AUC: 0.600129\n"
     ]
    }
   ],
   "source": [
    "# Logistic Regression\n",
    "\n",
    "#Create an instance of the model\n",
    "clf = LogisticRegression(random_state=0)\n",
    "\n",
    "#Fit the Model to the Data\n",
    "clf.fit(X_train, y_train)\n",
    "\n",
    "# Evaluation metrics\n",
    "\n",
    "# Predicts labels for test data\n",
    "y_pred = clf.predict(X_test)\n",
    "\n",
    "#Predicts probability, useful also in log loss calculations (and ROC AUC).\n",
    "y_pred_prob = clf.predict_proba(X_test)[:, 1]\n",
    "\n",
    "# Confusion matrix\n",
    "conf_mat = confusion_matrix(y_test, y_pred)\n",
    "print(conf_mat)\n",
    "\n",
    "# accuracy: (tp + tn) / (p + n)\n",
    "accuracy = accuracy_score(y_test, y_pred)\n",
    "print('Accuracy: %f' % accuracy)\n",
    "# precision tp / (tp + fp)\n",
    "precision = precision_score(y_test, y_pred)\n",
    "print('Precision: %f' % precision)\n",
    "# recall: tp / (tp + fn)\n",
    "recall = recall_score(y_test, y_pred)\n",
    "print('Recall: %f' % recall)\n",
    "# f1: 2 tp / (2 tp + fp + fn)\n",
    "f1 = f1_score(y_test, y_pred)\n",
    "print('F1 score: %f' % f1)\n",
    "\n",
    "# ROC AUC\n",
    "auc = roc_auc_score(y_test, y_pred_prob)\n",
    "print('ROC AUC: %f' % auc)"
   ]
  },
  {
   "cell_type": "code",
   "execution_count": 28,
   "id": "cdc61a21",
   "metadata": {},
   "outputs": [
    {
     "name": "stdout",
     "output_type": "stream",
     "text": [
      "[[5361 2435]\n",
      " [  43   28]]\n",
      "Accuracy: 0.685013\n",
      "Precision: 0.011368\n",
      "Recall: 0.394366\n",
      "F1 score: 0.022099\n",
      "ROC AUC: 0.541013\n"
     ]
    }
   ],
   "source": [
    "from imblearn.over_sampling import RandomOverSampler# Decision Tree\n",
    "\n",
    "#Create an instance of the model\n",
    "clf = DecisionTreeClassifier(random_state=0)\n",
    "\n",
    "#Fit the Model to the Data\n",
    "clf.fit(X_train, y_train)\n",
    "\n",
    "# Evaluation metrics\n",
    "\n",
    "# Predicts labels for test data\n",
    "y_pred = clf.predict(X_test)\n",
    "\n",
    "#Predicts probability, useful also in log loss calculations (and ROC AUC).\n",
    "y_pred_prob = clf.predict_proba(X_test)[:, 1]\n",
    "\n",
    "# Confusion matrix\n",
    "conf_mat = confusion_matrix(y_test, y_pred)\n",
    "print(conf_mat)\n",
    "\n",
    "# accuracy: (tp + tn) / (p + n)\n",
    "accuracy = accuracy_score(y_test, y_pred)\n",
    "print('Accuracy: %f' % accuracy)\n",
    "# precision tp / (tp + fp)\n",
    "precision = precision_score(y_test, y_pred)\n",
    "print('Precision: %f' % precision)\n",
    "# recall: tp / (tp + fn)\n",
    "recall = recall_score(y_test, y_pred)\n",
    "print('Recall: %f' % recall)\n",
    "# f1: 2 tp / (2 tp + fp + fn)\n",
    "f1 = f1_score(y_test, y_pred)\n",
    "print('F1 score: %f' % f1)\n",
    "\n",
    "# ROC AUC\n",
    "auc = roc_auc_score(y_test, y_pred_prob)\n",
    "print('ROC AUC: %f' % auc)"
   ]
  },
  {
   "cell_type": "code",
   "execution_count": 29,
   "id": "fc37f719",
   "metadata": {},
   "outputs": [
    {
     "name": "stdout",
     "output_type": "stream",
     "text": [
      "[[7779   17]\n",
      " [  70    1]]\n",
      "Accuracy: 0.988941\n",
      "Precision: 0.055556\n",
      "Recall: 0.014085\n",
      "F1 score: 0.022472\n",
      "ROC AUC: 0.611713\n"
     ]
    }
   ],
   "source": [
    "# Random Forest\n",
    "\n",
    "#Create an instance of the model\n",
    "clf = RandomForestClassifier(max_depth=2, random_state=0)\n",
    "\n",
    "#Fit the Model to the Data\n",
    "clf.fit(X_train, y_train)\n",
    "\n",
    "# Evaluation metrics\n",
    "\n",
    "# Predicts labels for test data\n",
    "y_pred = clf.predict(X_test)\n",
    "\n",
    "#Predicts probability, useful also in log loss calculations (and ROC AUC).\n",
    "y_pred_prob = clf.predict_proba(X_test)[:, 1]\n",
    "\n",
    "# Confusion matrix\n",
    "conf_mat = confusion_matrix(y_test, y_pred)\n",
    "print(conf_mat)\n",
    "\n",
    "# accuracy: (tp + tn) / (p + n)\n",
    "accuracy = accuracy_score(y_test, y_pred)\n",
    "print('Accuracy: %f' % accuracy)\n",
    "# precision tp / (tp + fp)\n",
    "precision = precision_score(y_test, y_pred)\n",
    "print('Precision: %f' % precision)\n",
    "# recall: tp / (tp + fn)\n",
    "recall = recall_score(y_test, y_pred)\n",
    "print('Recall: %f' % recall)\n",
    "# f1: 2 tp / (2 tp + fp + fn)\n",
    "f1 = f1_score(y_test, y_pred)\n",
    "print('F1 score: %f' % f1)\n",
    "\n",
    "# ROC AUC\n",
    "auc = roc_auc_score(y_test, y_pred_prob)\n",
    "print('ROC AUC: %f' % auc)"
   ]
  },
  {
   "cell_type": "code",
   "execution_count": 30,
   "id": "4e4a5ef4",
   "metadata": {},
   "outputs": [
    {
     "name": "stdout",
     "output_type": "stream",
     "text": [
      "[[6844  952]\n",
      " [  49   22]]\n",
      "Accuracy: 0.872760\n",
      "Precision: 0.022587\n",
      "Recall: 0.309859\n",
      "F1 score: 0.042105\n",
      "ROC AUC: 0.667497\n"
     ]
    }
   ],
   "source": [
    "# Extra Trees Classifier\n",
    "\n",
    "#Create an instance of the model\n",
    "clf = ExtraTreesClassifier(n_estimators=100, random_state=0)\n",
    "\n",
    "#Fit the Model to the Data\n",
    "clf.fit(X_train, y_train)\n",
    "\n",
    "# Evaluation metrics\n",
    "\n",
    "# Predicts labels for test data\n",
    "y_pred = clf.predict(X_test)\n",
    "\n",
    "#Predicts probability, useful also in log loss calculations (and ROC AUC).\n",
    "y_pred_prob = clf.predict_proba(X_test)[:, 1]\n",
    "\n",
    "# Confusion matrix\n",
    "conf_mat = confusion_matrix(y_test, y_pred)\n",
    "print(conf_mat)\n",
    "\n",
    "# accuracy: (tp + tn) / (p + n)\n",
    "accuracy = accuracy_score(y_test, y_pred)\n",
    "print('Accuracy: %f' % accuracy)\n",
    "# precision tp / (tp + fp)\n",
    "precision = precision_score(y_test, y_pred)\n",
    "print('Precision: %f' % precision)\n",
    "# recall: tp / (tp + fn)\n",
    "recall = recall_score(y_test, y_pred)\n",
    "print('Recall: %f' % recall)\n",
    "# f1: 2 tp / (2 tp + fp + fn)\n",
    "f1 = f1_score(y_test, y_pred)\n",
    "print('F1 score: %f' % f1)\n",
    "\n",
    "# ROC AUC\n",
    "auc = roc_auc_score(y_test, y_pred_prob)\n",
    "print('ROC AUC: %f' % auc)"
   ]
  },
  {
   "cell_type": "code",
   "execution_count": 31,
   "id": "dae3682a",
   "metadata": {},
   "outputs": [
    {
     "name": "stdout",
     "output_type": "stream",
     "text": [
      "[[6525 1271]\n",
      " [  50   21]]\n",
      "Accuracy: 0.832083\n",
      "Precision: 0.016254\n",
      "Recall: 0.295775\n",
      "F1 score: 0.030814\n",
      "ROC AUC: 0.597605\n"
     ]
    }
   ],
   "source": [
    "# Gradient Boosting\n",
    "\n",
    "#Create an instance of the model\n",
    "clf = GradientBoostingClassifier(n_estimators=100, learning_rate=1.0, max_depth=1, random_state=0)\n",
    "\n",
    "#Fit the Model to the Data\n",
    "clf.fit(X_train, y_train)\n",
    "\n",
    "# Evaluation metrics\n",
    "\n",
    "# Predicts labels for test data\n",
    "y_pred = clf.predict(X_test)\n",
    "\n",
    "#Predicts probability, useful also in log loss calculations (and ROC AUC).\n",
    "y_pred_prob = clf.predict_proba(X_test)[:, 1]\n",
    "\n",
    "# Confusion matrix\n",
    "conf_mat = confusion_matrix(y_test, y_pred)\n",
    "print(conf_mat)\n",
    "\n",
    "# accuracy: (tp + tn) / (p + n)\n",
    "accuracy = accuracy_score(y_test, y_pred)\n",
    "print('Accuracy: %f' % accuracy)\n",
    "# precision tp / (tp + fp)\n",
    "precision = precision_score(y_test, y_pred)\n",
    "print('Precision: %f' % precision)\n",
    "# recall: tp / (tp + fn)\n",
    "recall = recall_score(y_test, y_pred)\n",
    "print('Recall: %f' % recall)\n",
    "# f1: 2 tp / (2 tp + fp + fn)\n",
    "f1 = f1_score(y_test, y_pred)\n",
    "print('F1 score: %f' % f1)\n",
    "\n",
    "# ROC AUC\n",
    "auc = roc_auc_score(y_test, y_pred_prob)\n",
    "print('ROC AUC: %f' % auc)"
   ]
  },
  {
   "cell_type": "code",
   "execution_count": 32,
   "id": "cd2af15f",
   "metadata": {},
   "outputs": [
    {
     "name": "stdout",
     "output_type": "stream",
     "text": [
      "[[6449 1347]\n",
      " [  55   16]]\n",
      "Accuracy: 0.821787\n",
      "Precision: 0.011739\n",
      "Recall: 0.225352\n",
      "F1 score: 0.022315\n",
      "ROC AUC: 0.591062\n"
     ]
    }
   ],
   "source": [
    "# AdaBoost\n",
    "\n",
    "#Create an instance of the model\n",
    "clf = AdaBoostClassifier(n_estimators=100, random_state=0)\n",
    "\n",
    "#Fit the Model to the Data\n",
    "clf.fit(X_train, y_train)\n",
    "\n",
    "# Evaluation metrics\n",
    "\n",
    "# Predicts labels for test data\n",
    "y_pred = clf.predict(X_test)\n",
    "\n",
    "#Predicts probability, useful also in log loss calculations (and ROC AUC).\n",
    "y_pred_prob = clf.predict_proba(X_test)[:, 1]\n",
    "\n",
    "# Confusion matrix\n",
    "conf_mat = confusion_matrix(y_test, y_pred)\n",
    "print(conf_mat)\n",
    "\n",
    "# accuracy: (tp + tn) / (p + n)\n",
    "accuracy = accuracy_score(y_test, y_pred)\n",
    "print('Accuracy: %f' % accuracy)\n",
    "# precision tp / (tp + fp)\n",
    "precision = precision_score(y_test, y_pred)\n",
    "print('Precision: %f' % precision)\n",
    "# recall: tp / (tp + fn)\n",
    "recall = recall_score(y_test, y_pred)\n",
    "print('Recall: %f' % recall)\n",
    "# f1: 2 tp / (2 tp + fp + fn)\n",
    "f1 = f1_score(y_test, y_pred)\n",
    "print('F1 score: %f' % f1)\n",
    "\n",
    "# ROC AUC\n",
    "auc = roc_auc_score(y_test, y_pred_prob)\n",
    "print('ROC AUC: %f' % auc)"
   ]
  },
  {
   "cell_type": "code",
   "execution_count": 33,
   "id": "542c6c5d",
   "metadata": {},
   "outputs": [
    {
     "name": "stdout",
     "output_type": "stream",
     "text": [
      "[[6342 1454]\n",
      " [  45   26]]\n",
      "Accuracy: 0.809457\n",
      "Precision: 0.017568\n",
      "Recall: 0.366197\n",
      "F1 score: 0.033527\n",
      "ROC AUC: 0.674752\n"
     ]
    }
   ],
   "source": [
    "# XGBoost\n",
    "\n",
    "#Create an instance of the model\n",
    "clf = XGBClassifier(random_state=0, use_label_encoder=False)\n",
    "\n",
    "#Fit the Model to the Data\n",
    "clf.fit(X_train, y_train)\n",
    "\n",
    "# Evaluation metrics\n",
    "\n",
    "# Predicts labels for test data\n",
    "y_pred = clf.predict(X_test)\n",
    "\n",
    "#Predicts probability, useful also in log loss calculations (and ROC AUC).\n",
    "y_pred_prob = clf.predict_proba(X_test)[:, 1]\n",
    "\n",
    "# Confusion matrix\n",
    "conf_mat = confusion_matrix(y_test, y_pred)\n",
    "print(conf_mat)\n",
    "\n",
    "# accuracy: (tp + tn) / (p + n)\n",
    "accuracy = accuracy_score(y_test, y_pred)\n",
    "print('Accuracy: %f' % accuracy)\n",
    "# precision tp / (tp + fp)\n",
    "precision = precision_score(y_test, y_pred)\n",
    "print('Precision: %f' % precision)\n",
    "# recall: tp / (tp + fn)\n",
    "recall = recall_score(y_test, y_pred)\n",
    "print('Recall: %f' % recall)\n",
    "# f1: 2 tp / (2 tp + fp + fn)\n",
    "f1 = f1_score(y_test, y_pred)\n",
    "print('F1 score: %f' % f1)\n",
    "\n",
    "# ROC AUC\n",
    "auc = roc_auc_score(y_test, y_pred_prob)\n",
    "print('ROC AUC: %f' % auc)"
   ]
  }
 ],
 "metadata": {
  "kernelspec": {
   "display_name": "Python 3 (ipykernel)",
   "language": "python",
   "name": "python3"
  },
  "language_info": {
   "codemirror_mode": {
    "name": "ipython",
    "version": 3
   },
   "file_extension": ".py",
   "mimetype": "text/x-python",
   "name": "python",
   "nbconvert_exporter": "python",
   "pygments_lexer": "ipython3",
   "version": "3.7.13"
  }
 },
 "nbformat": 4,
 "nbformat_minor": 5
}
